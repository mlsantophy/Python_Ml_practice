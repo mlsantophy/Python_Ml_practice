{
 "cells": [
  {
   "cell_type": "markdown",
   "id": "b3dbbff7",
   "metadata": {},
   "source": [
    "# Loan Approval Prediction"
   ]
  },
  {
   "cell_type": "code",
   "execution_count": 1,
   "id": "8a204c4d",
   "metadata": {},
   "outputs": [],
   "source": [
    "# !pip uninstall numpy\n",
    "# !pip install numpy==1.23.1"
   ]
  },
  {
   "cell_type": "code",
   "execution_count": 2,
   "id": "77ecf725",
   "metadata": {},
   "outputs": [],
   "source": [
    "import numpy as np\n",
    "import pandas as pd\n",
    "import matplotlib.pyplot as plt\n",
    "import seaborn as sns\n",
    "%matplotlib inline\n",
    "import warnings\n",
    "warnings.filterwarnings('ignore')\n"
   ]
  },
  {
   "cell_type": "code",
   "execution_count": 3,
   "id": "f19e7699",
   "metadata": {},
   "outputs": [
    {
     "data": {
      "text/html": [
       "<div>\n",
       "<style scoped>\n",
       "    .dataframe tbody tr th:only-of-type {\n",
       "        vertical-align: middle;\n",
       "    }\n",
       "\n",
       "    .dataframe tbody tr th {\n",
       "        vertical-align: top;\n",
       "    }\n",
       "\n",
       "    .dataframe thead th {\n",
       "        text-align: right;\n",
       "    }\n",
       "</style>\n",
       "<table border=\"1\" class=\"dataframe\">\n",
       "  <thead>\n",
       "    <tr style=\"text-align: right;\">\n",
       "      <th></th>\n",
       "      <th>Loan_ID</th>\n",
       "      <th>Gender</th>\n",
       "      <th>Married</th>\n",
       "      <th>Dependents</th>\n",
       "      <th>Education</th>\n",
       "      <th>Self_Employed</th>\n",
       "      <th>ApplicantIncome</th>\n",
       "      <th>CoapplicantIncome</th>\n",
       "      <th>LoanAmount</th>\n",
       "      <th>Loan_Amount_Term</th>\n",
       "      <th>Credit_History</th>\n",
       "      <th>Property_Area</th>\n",
       "      <th>Loan_Status</th>\n",
       "    </tr>\n",
       "  </thead>\n",
       "  <tbody>\n",
       "    <tr>\n",
       "      <th>0</th>\n",
       "      <td>LP001002</td>\n",
       "      <td>Male</td>\n",
       "      <td>No</td>\n",
       "      <td>0</td>\n",
       "      <td>Graduate</td>\n",
       "      <td>No</td>\n",
       "      <td>5849</td>\n",
       "      <td>0.0</td>\n",
       "      <td>NaN</td>\n",
       "      <td>360.0</td>\n",
       "      <td>1.0</td>\n",
       "      <td>Urban</td>\n",
       "      <td>Y</td>\n",
       "    </tr>\n",
       "    <tr>\n",
       "      <th>1</th>\n",
       "      <td>LP001003</td>\n",
       "      <td>Male</td>\n",
       "      <td>Yes</td>\n",
       "      <td>1</td>\n",
       "      <td>Graduate</td>\n",
       "      <td>No</td>\n",
       "      <td>4583</td>\n",
       "      <td>1508.0</td>\n",
       "      <td>128.0</td>\n",
       "      <td>360.0</td>\n",
       "      <td>1.0</td>\n",
       "      <td>Rural</td>\n",
       "      <td>N</td>\n",
       "    </tr>\n",
       "    <tr>\n",
       "      <th>2</th>\n",
       "      <td>LP001005</td>\n",
       "      <td>Male</td>\n",
       "      <td>Yes</td>\n",
       "      <td>0</td>\n",
       "      <td>Graduate</td>\n",
       "      <td>Yes</td>\n",
       "      <td>3000</td>\n",
       "      <td>0.0</td>\n",
       "      <td>66.0</td>\n",
       "      <td>360.0</td>\n",
       "      <td>1.0</td>\n",
       "      <td>Urban</td>\n",
       "      <td>Y</td>\n",
       "    </tr>\n",
       "    <tr>\n",
       "      <th>3</th>\n",
       "      <td>LP001006</td>\n",
       "      <td>Male</td>\n",
       "      <td>Yes</td>\n",
       "      <td>0</td>\n",
       "      <td>Not Graduate</td>\n",
       "      <td>No</td>\n",
       "      <td>2583</td>\n",
       "      <td>2358.0</td>\n",
       "      <td>120.0</td>\n",
       "      <td>360.0</td>\n",
       "      <td>1.0</td>\n",
       "      <td>Urban</td>\n",
       "      <td>Y</td>\n",
       "    </tr>\n",
       "    <tr>\n",
       "      <th>4</th>\n",
       "      <td>LP001008</td>\n",
       "      <td>Male</td>\n",
       "      <td>No</td>\n",
       "      <td>0</td>\n",
       "      <td>Graduate</td>\n",
       "      <td>No</td>\n",
       "      <td>6000</td>\n",
       "      <td>0.0</td>\n",
       "      <td>141.0</td>\n",
       "      <td>360.0</td>\n",
       "      <td>1.0</td>\n",
       "      <td>Urban</td>\n",
       "      <td>Y</td>\n",
       "    </tr>\n",
       "    <tr>\n",
       "      <th>...</th>\n",
       "      <td>...</td>\n",
       "      <td>...</td>\n",
       "      <td>...</td>\n",
       "      <td>...</td>\n",
       "      <td>...</td>\n",
       "      <td>...</td>\n",
       "      <td>...</td>\n",
       "      <td>...</td>\n",
       "      <td>...</td>\n",
       "      <td>...</td>\n",
       "      <td>...</td>\n",
       "      <td>...</td>\n",
       "      <td>...</td>\n",
       "    </tr>\n",
       "    <tr>\n",
       "      <th>609</th>\n",
       "      <td>LP002978</td>\n",
       "      <td>Female</td>\n",
       "      <td>No</td>\n",
       "      <td>0</td>\n",
       "      <td>Graduate</td>\n",
       "      <td>No</td>\n",
       "      <td>2900</td>\n",
       "      <td>0.0</td>\n",
       "      <td>71.0</td>\n",
       "      <td>360.0</td>\n",
       "      <td>1.0</td>\n",
       "      <td>Rural</td>\n",
       "      <td>Y</td>\n",
       "    </tr>\n",
       "    <tr>\n",
       "      <th>610</th>\n",
       "      <td>LP002979</td>\n",
       "      <td>Male</td>\n",
       "      <td>Yes</td>\n",
       "      <td>3+</td>\n",
       "      <td>Graduate</td>\n",
       "      <td>No</td>\n",
       "      <td>4106</td>\n",
       "      <td>0.0</td>\n",
       "      <td>40.0</td>\n",
       "      <td>180.0</td>\n",
       "      <td>1.0</td>\n",
       "      <td>Rural</td>\n",
       "      <td>Y</td>\n",
       "    </tr>\n",
       "    <tr>\n",
       "      <th>611</th>\n",
       "      <td>LP002983</td>\n",
       "      <td>Male</td>\n",
       "      <td>Yes</td>\n",
       "      <td>1</td>\n",
       "      <td>Graduate</td>\n",
       "      <td>No</td>\n",
       "      <td>8072</td>\n",
       "      <td>240.0</td>\n",
       "      <td>253.0</td>\n",
       "      <td>360.0</td>\n",
       "      <td>1.0</td>\n",
       "      <td>Urban</td>\n",
       "      <td>Y</td>\n",
       "    </tr>\n",
       "    <tr>\n",
       "      <th>612</th>\n",
       "      <td>LP002984</td>\n",
       "      <td>Male</td>\n",
       "      <td>Yes</td>\n",
       "      <td>2</td>\n",
       "      <td>Graduate</td>\n",
       "      <td>No</td>\n",
       "      <td>7583</td>\n",
       "      <td>0.0</td>\n",
       "      <td>187.0</td>\n",
       "      <td>360.0</td>\n",
       "      <td>1.0</td>\n",
       "      <td>Urban</td>\n",
       "      <td>Y</td>\n",
       "    </tr>\n",
       "    <tr>\n",
       "      <th>613</th>\n",
       "      <td>LP002990</td>\n",
       "      <td>Female</td>\n",
       "      <td>No</td>\n",
       "      <td>0</td>\n",
       "      <td>Graduate</td>\n",
       "      <td>Yes</td>\n",
       "      <td>4583</td>\n",
       "      <td>0.0</td>\n",
       "      <td>133.0</td>\n",
       "      <td>360.0</td>\n",
       "      <td>0.0</td>\n",
       "      <td>Semiurban</td>\n",
       "      <td>N</td>\n",
       "    </tr>\n",
       "  </tbody>\n",
       "</table>\n",
       "<p>614 rows × 13 columns</p>\n",
       "</div>"
      ],
      "text/plain": [
       "      Loan_ID  Gender Married Dependents     Education Self_Employed  \\\n",
       "0    LP001002    Male      No          0      Graduate            No   \n",
       "1    LP001003    Male     Yes          1      Graduate            No   \n",
       "2    LP001005    Male     Yes          0      Graduate           Yes   \n",
       "3    LP001006    Male     Yes          0  Not Graduate            No   \n",
       "4    LP001008    Male      No          0      Graduate            No   \n",
       "..        ...     ...     ...        ...           ...           ...   \n",
       "609  LP002978  Female      No          0      Graduate            No   \n",
       "610  LP002979    Male     Yes         3+      Graduate            No   \n",
       "611  LP002983    Male     Yes          1      Graduate            No   \n",
       "612  LP002984    Male     Yes          2      Graduate            No   \n",
       "613  LP002990  Female      No          0      Graduate           Yes   \n",
       "\n",
       "     ApplicantIncome  CoapplicantIncome  LoanAmount  Loan_Amount_Term  \\\n",
       "0               5849                0.0         NaN             360.0   \n",
       "1               4583             1508.0       128.0             360.0   \n",
       "2               3000                0.0        66.0             360.0   \n",
       "3               2583             2358.0       120.0             360.0   \n",
       "4               6000                0.0       141.0             360.0   \n",
       "..               ...                ...         ...               ...   \n",
       "609             2900                0.0        71.0             360.0   \n",
       "610             4106                0.0        40.0             180.0   \n",
       "611             8072              240.0       253.0             360.0   \n",
       "612             7583                0.0       187.0             360.0   \n",
       "613             4583                0.0       133.0             360.0   \n",
       "\n",
       "     Credit_History Property_Area Loan_Status  \n",
       "0               1.0         Urban           Y  \n",
       "1               1.0         Rural           N  \n",
       "2               1.0         Urban           Y  \n",
       "3               1.0         Urban           Y  \n",
       "4               1.0         Urban           Y  \n",
       "..              ...           ...         ...  \n",
       "609             1.0         Rural           Y  \n",
       "610             1.0         Rural           Y  \n",
       "611             1.0         Urban           Y  \n",
       "612             1.0         Urban           Y  \n",
       "613             0.0     Semiurban           N  \n",
       "\n",
       "[614 rows x 13 columns]"
      ]
     },
     "execution_count": 3,
     "metadata": {},
     "output_type": "execute_result"
    }
   ],
   "source": [
    "train=pd.read_csv(\"train_u6lujuX_CVtuZ9i.csv\")\n",
    "train"
   ]
  },
  {
   "cell_type": "code",
   "execution_count": 4,
   "id": "eb93fdb2",
   "metadata": {},
   "outputs": [
    {
     "data": {
      "text/html": [
       "<div>\n",
       "<style scoped>\n",
       "    .dataframe tbody tr th:only-of-type {\n",
       "        vertical-align: middle;\n",
       "    }\n",
       "\n",
       "    .dataframe tbody tr th {\n",
       "        vertical-align: top;\n",
       "    }\n",
       "\n",
       "    .dataframe thead th {\n",
       "        text-align: right;\n",
       "    }\n",
       "</style>\n",
       "<table border=\"1\" class=\"dataframe\">\n",
       "  <thead>\n",
       "    <tr style=\"text-align: right;\">\n",
       "      <th></th>\n",
       "      <th>Loan_ID</th>\n",
       "      <th>Gender</th>\n",
       "      <th>Married</th>\n",
       "      <th>Dependents</th>\n",
       "      <th>Education</th>\n",
       "      <th>Self_Employed</th>\n",
       "      <th>ApplicantIncome</th>\n",
       "      <th>CoapplicantIncome</th>\n",
       "      <th>LoanAmount</th>\n",
       "      <th>Loan_Amount_Term</th>\n",
       "      <th>Credit_History</th>\n",
       "      <th>Property_Area</th>\n",
       "    </tr>\n",
       "  </thead>\n",
       "  <tbody>\n",
       "    <tr>\n",
       "      <th>0</th>\n",
       "      <td>LP001015</td>\n",
       "      <td>Male</td>\n",
       "      <td>Yes</td>\n",
       "      <td>0</td>\n",
       "      <td>Graduate</td>\n",
       "      <td>No</td>\n",
       "      <td>5720</td>\n",
       "      <td>0</td>\n",
       "      <td>110.0</td>\n",
       "      <td>360.0</td>\n",
       "      <td>1.0</td>\n",
       "      <td>Urban</td>\n",
       "    </tr>\n",
       "    <tr>\n",
       "      <th>1</th>\n",
       "      <td>LP001022</td>\n",
       "      <td>Male</td>\n",
       "      <td>Yes</td>\n",
       "      <td>1</td>\n",
       "      <td>Graduate</td>\n",
       "      <td>No</td>\n",
       "      <td>3076</td>\n",
       "      <td>1500</td>\n",
       "      <td>126.0</td>\n",
       "      <td>360.0</td>\n",
       "      <td>1.0</td>\n",
       "      <td>Urban</td>\n",
       "    </tr>\n",
       "    <tr>\n",
       "      <th>2</th>\n",
       "      <td>LP001031</td>\n",
       "      <td>Male</td>\n",
       "      <td>Yes</td>\n",
       "      <td>2</td>\n",
       "      <td>Graduate</td>\n",
       "      <td>No</td>\n",
       "      <td>5000</td>\n",
       "      <td>1800</td>\n",
       "      <td>208.0</td>\n",
       "      <td>360.0</td>\n",
       "      <td>1.0</td>\n",
       "      <td>Urban</td>\n",
       "    </tr>\n",
       "    <tr>\n",
       "      <th>3</th>\n",
       "      <td>LP001035</td>\n",
       "      <td>Male</td>\n",
       "      <td>Yes</td>\n",
       "      <td>2</td>\n",
       "      <td>Graduate</td>\n",
       "      <td>No</td>\n",
       "      <td>2340</td>\n",
       "      <td>2546</td>\n",
       "      <td>100.0</td>\n",
       "      <td>360.0</td>\n",
       "      <td>NaN</td>\n",
       "      <td>Urban</td>\n",
       "    </tr>\n",
       "    <tr>\n",
       "      <th>4</th>\n",
       "      <td>LP001051</td>\n",
       "      <td>Male</td>\n",
       "      <td>No</td>\n",
       "      <td>0</td>\n",
       "      <td>Not Graduate</td>\n",
       "      <td>No</td>\n",
       "      <td>3276</td>\n",
       "      <td>0</td>\n",
       "      <td>78.0</td>\n",
       "      <td>360.0</td>\n",
       "      <td>1.0</td>\n",
       "      <td>Urban</td>\n",
       "    </tr>\n",
       "    <tr>\n",
       "      <th>...</th>\n",
       "      <td>...</td>\n",
       "      <td>...</td>\n",
       "      <td>...</td>\n",
       "      <td>...</td>\n",
       "      <td>...</td>\n",
       "      <td>...</td>\n",
       "      <td>...</td>\n",
       "      <td>...</td>\n",
       "      <td>...</td>\n",
       "      <td>...</td>\n",
       "      <td>...</td>\n",
       "      <td>...</td>\n",
       "    </tr>\n",
       "    <tr>\n",
       "      <th>362</th>\n",
       "      <td>LP002971</td>\n",
       "      <td>Male</td>\n",
       "      <td>Yes</td>\n",
       "      <td>3+</td>\n",
       "      <td>Not Graduate</td>\n",
       "      <td>Yes</td>\n",
       "      <td>4009</td>\n",
       "      <td>1777</td>\n",
       "      <td>113.0</td>\n",
       "      <td>360.0</td>\n",
       "      <td>1.0</td>\n",
       "      <td>Urban</td>\n",
       "    </tr>\n",
       "    <tr>\n",
       "      <th>363</th>\n",
       "      <td>LP002975</td>\n",
       "      <td>Male</td>\n",
       "      <td>Yes</td>\n",
       "      <td>0</td>\n",
       "      <td>Graduate</td>\n",
       "      <td>No</td>\n",
       "      <td>4158</td>\n",
       "      <td>709</td>\n",
       "      <td>115.0</td>\n",
       "      <td>360.0</td>\n",
       "      <td>1.0</td>\n",
       "      <td>Urban</td>\n",
       "    </tr>\n",
       "    <tr>\n",
       "      <th>364</th>\n",
       "      <td>LP002980</td>\n",
       "      <td>Male</td>\n",
       "      <td>No</td>\n",
       "      <td>0</td>\n",
       "      <td>Graduate</td>\n",
       "      <td>No</td>\n",
       "      <td>3250</td>\n",
       "      <td>1993</td>\n",
       "      <td>126.0</td>\n",
       "      <td>360.0</td>\n",
       "      <td>NaN</td>\n",
       "      <td>Semiurban</td>\n",
       "    </tr>\n",
       "    <tr>\n",
       "      <th>365</th>\n",
       "      <td>LP002986</td>\n",
       "      <td>Male</td>\n",
       "      <td>Yes</td>\n",
       "      <td>0</td>\n",
       "      <td>Graduate</td>\n",
       "      <td>No</td>\n",
       "      <td>5000</td>\n",
       "      <td>2393</td>\n",
       "      <td>158.0</td>\n",
       "      <td>360.0</td>\n",
       "      <td>1.0</td>\n",
       "      <td>Rural</td>\n",
       "    </tr>\n",
       "    <tr>\n",
       "      <th>366</th>\n",
       "      <td>LP002989</td>\n",
       "      <td>Male</td>\n",
       "      <td>No</td>\n",
       "      <td>0</td>\n",
       "      <td>Graduate</td>\n",
       "      <td>Yes</td>\n",
       "      <td>9200</td>\n",
       "      <td>0</td>\n",
       "      <td>98.0</td>\n",
       "      <td>180.0</td>\n",
       "      <td>1.0</td>\n",
       "      <td>Rural</td>\n",
       "    </tr>\n",
       "  </tbody>\n",
       "</table>\n",
       "<p>367 rows × 12 columns</p>\n",
       "</div>"
      ],
      "text/plain": [
       "      Loan_ID Gender Married Dependents     Education Self_Employed  \\\n",
       "0    LP001015   Male     Yes          0      Graduate            No   \n",
       "1    LP001022   Male     Yes          1      Graduate            No   \n",
       "2    LP001031   Male     Yes          2      Graduate            No   \n",
       "3    LP001035   Male     Yes          2      Graduate            No   \n",
       "4    LP001051   Male      No          0  Not Graduate            No   \n",
       "..        ...    ...     ...        ...           ...           ...   \n",
       "362  LP002971   Male     Yes         3+  Not Graduate           Yes   \n",
       "363  LP002975   Male     Yes          0      Graduate            No   \n",
       "364  LP002980   Male      No          0      Graduate            No   \n",
       "365  LP002986   Male     Yes          0      Graduate            No   \n",
       "366  LP002989   Male      No          0      Graduate           Yes   \n",
       "\n",
       "     ApplicantIncome  CoapplicantIncome  LoanAmount  Loan_Amount_Term  \\\n",
       "0               5720                  0       110.0             360.0   \n",
       "1               3076               1500       126.0             360.0   \n",
       "2               5000               1800       208.0             360.0   \n",
       "3               2340               2546       100.0             360.0   \n",
       "4               3276                  0        78.0             360.0   \n",
       "..               ...                ...         ...               ...   \n",
       "362             4009               1777       113.0             360.0   \n",
       "363             4158                709       115.0             360.0   \n",
       "364             3250               1993       126.0             360.0   \n",
       "365             5000               2393       158.0             360.0   \n",
       "366             9200                  0        98.0             180.0   \n",
       "\n",
       "     Credit_History Property_Area  \n",
       "0               1.0         Urban  \n",
       "1               1.0         Urban  \n",
       "2               1.0         Urban  \n",
       "3               NaN         Urban  \n",
       "4               1.0         Urban  \n",
       "..              ...           ...  \n",
       "362             1.0         Urban  \n",
       "363             1.0         Urban  \n",
       "364             NaN     Semiurban  \n",
       "365             1.0         Rural  \n",
       "366             1.0         Rural  \n",
       "\n",
       "[367 rows x 12 columns]"
      ]
     },
     "execution_count": 4,
     "metadata": {},
     "output_type": "execute_result"
    }
   ],
   "source": [
    "test=pd.read_csv(\"test_Y3wMUE5_7gLdaTN.csv\")\n",
    "test"
   ]
  },
  {
   "cell_type": "code",
   "execution_count": 5,
   "id": "0d315e7d",
   "metadata": {},
   "outputs": [
    {
     "data": {
      "text/plain": [
       "Index(['Loan_ID', 'Gender', 'Married', 'Dependents', 'Education',\n",
       "       'Self_Employed', 'ApplicantIncome', 'CoapplicantIncome', 'LoanAmount',\n",
       "       'Loan_Amount_Term', 'Credit_History', 'Property_Area', 'Loan_Status'],\n",
       "      dtype='object')"
      ]
     },
     "execution_count": 5,
     "metadata": {},
     "output_type": "execute_result"
    }
   ],
   "source": [
    "train.columns"
   ]
  },
  {
   "cell_type": "code",
   "execution_count": 6,
   "id": "ae8fd760",
   "metadata": {},
   "outputs": [
    {
     "data": {
      "text/plain": [
       "Index(['Loan_ID', 'Gender', 'Married', 'Dependents', 'Education',\n",
       "       'Self_Employed', 'ApplicantIncome', 'CoapplicantIncome', 'LoanAmount',\n",
       "       'Loan_Amount_Term', 'Credit_History', 'Property_Area'],\n",
       "      dtype='object')"
      ]
     },
     "execution_count": 6,
     "metadata": {},
     "output_type": "execute_result"
    }
   ],
   "source": [
    "test.columns"
   ]
  },
  {
   "cell_type": "code",
   "execution_count": 7,
   "id": "f2194e4f",
   "metadata": {},
   "outputs": [
    {
     "data": {
      "text/plain": [
       "((614, 13), (367, 12))"
      ]
     },
     "execution_count": 7,
     "metadata": {},
     "output_type": "execute_result"
    }
   ],
   "source": [
    "train.shape, test.shape"
   ]
  },
  {
   "cell_type": "code",
   "execution_count": 8,
   "id": "afe6c447",
   "metadata": {},
   "outputs": [
    {
     "name": "stdout",
     "output_type": "stream",
     "text": [
      "<class 'pandas.core.frame.DataFrame'>\n",
      "RangeIndex: 614 entries, 0 to 613\n",
      "Data columns (total 13 columns):\n",
      " #   Column             Non-Null Count  Dtype  \n",
      "---  ------             --------------  -----  \n",
      " 0   Loan_ID            614 non-null    object \n",
      " 1   Gender             601 non-null    object \n",
      " 2   Married            611 non-null    object \n",
      " 3   Dependents         599 non-null    object \n",
      " 4   Education          614 non-null    object \n",
      " 5   Self_Employed      582 non-null    object \n",
      " 6   ApplicantIncome    614 non-null    int64  \n",
      " 7   CoapplicantIncome  614 non-null    float64\n",
      " 8   LoanAmount         592 non-null    float64\n",
      " 9   Loan_Amount_Term   600 non-null    float64\n",
      " 10  Credit_History     564 non-null    float64\n",
      " 11  Property_Area      614 non-null    object \n",
      " 12  Loan_Status        614 non-null    object \n",
      "dtypes: float64(4), int64(1), object(8)\n",
      "memory usage: 62.5+ KB\n"
     ]
    }
   ],
   "source": [
    "train.info()"
   ]
  },
  {
   "cell_type": "code",
   "execution_count": 9,
   "id": "2dc8592b",
   "metadata": {},
   "outputs": [
    {
     "data": {
      "text/html": [
       "<div>\n",
       "<style scoped>\n",
       "    .dataframe tbody tr th:only-of-type {\n",
       "        vertical-align: middle;\n",
       "    }\n",
       "\n",
       "    .dataframe tbody tr th {\n",
       "        vertical-align: top;\n",
       "    }\n",
       "\n",
       "    .dataframe thead th {\n",
       "        text-align: right;\n",
       "    }\n",
       "</style>\n",
       "<table border=\"1\" class=\"dataframe\">\n",
       "  <thead>\n",
       "    <tr style=\"text-align: right;\">\n",
       "      <th></th>\n",
       "      <th>ApplicantIncome</th>\n",
       "      <th>CoapplicantIncome</th>\n",
       "      <th>LoanAmount</th>\n",
       "      <th>Loan_Amount_Term</th>\n",
       "      <th>Credit_History</th>\n",
       "    </tr>\n",
       "  </thead>\n",
       "  <tbody>\n",
       "    <tr>\n",
       "      <th>count</th>\n",
       "      <td>614.000000</td>\n",
       "      <td>614.000000</td>\n",
       "      <td>592.000000</td>\n",
       "      <td>600.00000</td>\n",
       "      <td>564.000000</td>\n",
       "    </tr>\n",
       "    <tr>\n",
       "      <th>mean</th>\n",
       "      <td>5403.459283</td>\n",
       "      <td>1621.245798</td>\n",
       "      <td>146.412162</td>\n",
       "      <td>342.00000</td>\n",
       "      <td>0.842199</td>\n",
       "    </tr>\n",
       "    <tr>\n",
       "      <th>std</th>\n",
       "      <td>6109.041673</td>\n",
       "      <td>2926.248369</td>\n",
       "      <td>85.587325</td>\n",
       "      <td>65.12041</td>\n",
       "      <td>0.364878</td>\n",
       "    </tr>\n",
       "    <tr>\n",
       "      <th>min</th>\n",
       "      <td>150.000000</td>\n",
       "      <td>0.000000</td>\n",
       "      <td>9.000000</td>\n",
       "      <td>12.00000</td>\n",
       "      <td>0.000000</td>\n",
       "    </tr>\n",
       "    <tr>\n",
       "      <th>25%</th>\n",
       "      <td>2877.500000</td>\n",
       "      <td>0.000000</td>\n",
       "      <td>100.000000</td>\n",
       "      <td>360.00000</td>\n",
       "      <td>1.000000</td>\n",
       "    </tr>\n",
       "    <tr>\n",
       "      <th>50%</th>\n",
       "      <td>3812.500000</td>\n",
       "      <td>1188.500000</td>\n",
       "      <td>128.000000</td>\n",
       "      <td>360.00000</td>\n",
       "      <td>1.000000</td>\n",
       "    </tr>\n",
       "    <tr>\n",
       "      <th>75%</th>\n",
       "      <td>5795.000000</td>\n",
       "      <td>2297.250000</td>\n",
       "      <td>168.000000</td>\n",
       "      <td>360.00000</td>\n",
       "      <td>1.000000</td>\n",
       "    </tr>\n",
       "    <tr>\n",
       "      <th>max</th>\n",
       "      <td>81000.000000</td>\n",
       "      <td>41667.000000</td>\n",
       "      <td>700.000000</td>\n",
       "      <td>480.00000</td>\n",
       "      <td>1.000000</td>\n",
       "    </tr>\n",
       "  </tbody>\n",
       "</table>\n",
       "</div>"
      ],
      "text/plain": [
       "       ApplicantIncome  CoapplicantIncome  LoanAmount  Loan_Amount_Term  \\\n",
       "count       614.000000         614.000000  592.000000         600.00000   \n",
       "mean       5403.459283        1621.245798  146.412162         342.00000   \n",
       "std        6109.041673        2926.248369   85.587325          65.12041   \n",
       "min         150.000000           0.000000    9.000000          12.00000   \n",
       "25%        2877.500000           0.000000  100.000000         360.00000   \n",
       "50%        3812.500000        1188.500000  128.000000         360.00000   \n",
       "75%        5795.000000        2297.250000  168.000000         360.00000   \n",
       "max       81000.000000       41667.000000  700.000000         480.00000   \n",
       "\n",
       "       Credit_History  \n",
       "count      564.000000  \n",
       "mean         0.842199  \n",
       "std          0.364878  \n",
       "min          0.000000  \n",
       "25%          1.000000  \n",
       "50%          1.000000  \n",
       "75%          1.000000  \n",
       "max          1.000000  "
      ]
     },
     "execution_count": 9,
     "metadata": {},
     "output_type": "execute_result"
    }
   ],
   "source": [
    "train.describe()"
   ]
  },
  {
   "cell_type": "raw",
   "id": "d719362b",
   "metadata": {},
   "source": [
    "A higher Std than mean in ApplicantIncome and CoapplicantIncome columns indicates skewness.\n",
    "\n",
    "There is a huge difference between 75% and max in ApplicantIncome,CoapplicantIncome and LoanAmount, indicating presence of outliers."
   ]
  },
  {
   "cell_type": "code",
   "execution_count": 10,
   "id": "c41844ed",
   "metadata": {},
   "outputs": [
    {
     "data": {
      "text/plain": [
       "Loan_ID               0\n",
       "Gender               13\n",
       "Married               3\n",
       "Dependents           15\n",
       "Education             0\n",
       "Self_Employed        32\n",
       "ApplicantIncome       0\n",
       "CoapplicantIncome     0\n",
       "LoanAmount           22\n",
       "Loan_Amount_Term     14\n",
       "Credit_History       50\n",
       "Property_Area         0\n",
       "Loan_Status           0\n",
       "dtype: int64"
      ]
     },
     "execution_count": 10,
     "metadata": {},
     "output_type": "execute_result"
    }
   ],
   "source": [
    "train.isnull().sum()"
   ]
  },
  {
   "cell_type": "code",
   "execution_count": 11,
   "id": "875a86a5",
   "metadata": {},
   "outputs": [
    {
     "data": {
      "text/plain": [
       "Loan_ID               0\n",
       "Gender               11\n",
       "Married               0\n",
       "Dependents           10\n",
       "Education             0\n",
       "Self_Employed        23\n",
       "ApplicantIncome       0\n",
       "CoapplicantIncome     0\n",
       "LoanAmount            5\n",
       "Loan_Amount_Term      6\n",
       "Credit_History       29\n",
       "Property_Area         0\n",
       "dtype: int64"
      ]
     },
     "execution_count": 11,
     "metadata": {},
     "output_type": "execute_result"
    }
   ],
   "source": [
    "test.isnull().sum()"
   ]
  },
  {
   "cell_type": "markdown",
   "id": "da5f0576",
   "metadata": {},
   "source": [
    "There are NaN values in columns: Gender,Married,Dependents,Self_Employed,LoanAmount,Loan_Amount_Term,Credit_History"
   ]
  },
  {
   "cell_type": "code",
   "execution_count": 12,
   "id": "80a38b66",
   "metadata": {},
   "outputs": [
    {
     "data": {
      "image/png": "[encoded data removed]",
      "text/plain": [
       "<Figure size 432x288 with 2 Axes>"
      ]
     },
     "metadata": {
      "needs_background": "light"
     },
     "output_type": "display_data"
    }
   ],
   "source": [
    "# Visualization for null vlue\n",
    "sns.heatmap(train.isnull(),cmap=\"YlGnBu\")\n",
    "plt.show()"
   ]
  },
  {
   "cell_type": "code",
   "execution_count": 13,
   "id": "7469bd88",
   "metadata": {},
   "outputs": [
    {
     "data": {
      "text/plain": [
       "Loan_ID              614\n",
       "Gender                 2\n",
       "Married                2\n",
       "Dependents             4\n",
       "Education              2\n",
       "Self_Employed          2\n",
       "ApplicantIncome      505\n",
       "CoapplicantIncome    287\n",
       "LoanAmount           203\n",
       "Loan_Amount_Term      10\n",
       "Credit_History         2\n",
       "Property_Area          3\n",
       "Loan_Status            2\n",
       "dtype: int64"
      ]
     },
     "execution_count": 13,
     "metadata": {},
     "output_type": "execute_result"
    }
   ],
   "source": [
    "train.nunique()"
   ]
  },
  {
   "cell_type": "markdown",
   "id": "4fea786f",
   "metadata": {},
   "source": [
    "Gender,Married,Education,Self_Employed,Credit_History,Loan_Status each have 2 unique elements,Dependents has 4 unique elements,Property Area has 3 unique elements."
   ]
  },
  {
   "cell_type": "markdown",
   "id": "f6292535",
   "metadata": {},
   "source": [
    "## Dataframe Description:\n",
    "#### Independent Variables:\n",
    "Loan_ID\n",
    "\n",
    "Gender\n",
    "\n",
    "Married\n",
    "\n",
    "Dependents\n",
    "\n",
    "Education\n",
    "\n",
    "Self_Employed\n",
    "\n",
    "ApplicantIncome\n",
    "\n",
    "CoapplicantIncome\n",
    "\n",
    "Loan_Amount\n",
    "\n",
    "Loan_Amount_Term\n",
    "\n",
    "Credit History\n",
    "\n",
    "Property_Area\n",
    "\n",
    "#### Dependent Variable (Target Variable):\n",
    "Loan_Status"
   ]
  },
  {
   "cell_type": "markdown",
   "id": "03f31ca0",
   "metadata": {},
   "source": [
    "### Problem Statement:\n",
    "This dataset includes details of applicants who have applied for loan. The dataset includes details like credit history, loan amount, their income, dependents etc.\n",
    "\n",
    "Build a model that can predict whether the loan of the applicant will be approved or not on the basis of the details provided in the dataset.\n",
    "\n",
    "#### This is a Classification Problem since the Target variable / Label column (\"Loan_Status\") has Catergorical type of Data."
   ]
  },
  {
   "cell_type": "code",
   "execution_count": null,
   "id": "6fb5f762",
   "metadata": {},
   "outputs": [],
   "source": []
  },
  {
   "cell_type": "code",
   "execution_count": null,
   "id": "42eda973",
   "metadata": {},
   "outputs": [],
   "source": []
  },
  {
   "cell_type": "code",
   "execution_count": 14,
   "id": "b8df6e00",
   "metadata": {},
   "outputs": [],
   "source": [
    "train.fillna(method='ffill',inplace=True)"
   ]
  },
  {
   "cell_type": "code",
   "execution_count": 15,
   "id": "8139a4da",
   "metadata": {},
   "outputs": [],
   "source": [
    "train.fillna(method='bfill',inplace=True)"
   ]
  },
  {
   "cell_type": "code",
   "execution_count": 16,
   "id": "e19f5f39",
   "metadata": {},
   "outputs": [],
   "source": [
    "test.fillna(method='ffill',inplace=True)"
   ]
  },
  {
   "cell_type": "code",
   "execution_count": 17,
   "id": "dd4d1f28",
   "metadata": {},
   "outputs": [],
   "source": [
    "test.fillna(method='bfill',inplace=True)"
   ]
  },
  {
   "cell_type": "code",
   "execution_count": 18,
   "id": "942b3c98",
   "metadata": {},
   "outputs": [
    {
     "data": {
      "text/plain": [
       "array(['Male', 'Female'], dtype=object)"
      ]
     },
     "execution_count": 18,
     "metadata": {},
     "output_type": "execute_result"
    }
   ],
   "source": [
    "train.Gender.unique()"
   ]
  },
  {
   "cell_type": "code",
   "execution_count": 19,
   "id": "1aa239a4",
   "metadata": {},
   "outputs": [
    {
     "data": {
      "text/plain": [
       "array(['No', 'Yes'], dtype=object)"
      ]
     },
     "execution_count": 19,
     "metadata": {},
     "output_type": "execute_result"
    }
   ],
   "source": [
    "train.Married.unique()"
   ]
  },
  {
   "cell_type": "code",
   "execution_count": 20,
   "id": "7475c9bc",
   "metadata": {},
   "outputs": [
    {
     "data": {
      "text/plain": [
       "array(['0', '1', '2', '3+'], dtype=object)"
      ]
     },
     "execution_count": 20,
     "metadata": {},
     "output_type": "execute_result"
    }
   ],
   "source": [
    "train['Dependents'].unique()"
   ]
  },
  {
   "cell_type": "code",
   "execution_count": 21,
   "id": "8574f05f",
   "metadata": {},
   "outputs": [
    {
     "data": {
      "text/plain": [
       "array(['Graduate', 'Not Graduate'], dtype=object)"
      ]
     },
     "execution_count": 21,
     "metadata": {},
     "output_type": "execute_result"
    }
   ],
   "source": [
    "train['Education'].unique()"
   ]
  },
  {
   "cell_type": "code",
   "execution_count": 22,
   "id": "c48d12a2",
   "metadata": {},
   "outputs": [
    {
     "data": {
      "text/plain": [
       "array(['No', 'Yes'], dtype=object)"
      ]
     },
     "execution_count": 22,
     "metadata": {},
     "output_type": "execute_result"
    }
   ],
   "source": [
    "train['Self_Employed'].unique()"
   ]
  },
  {
   "cell_type": "code",
   "execution_count": 23,
   "id": "a9acb628",
   "metadata": {},
   "outputs": [
    {
     "data": {
      "text/plain": [
       "array([1., 0.])"
      ]
     },
     "execution_count": 23,
     "metadata": {},
     "output_type": "execute_result"
    }
   ],
   "source": [
    "train['Credit_History'].unique()"
   ]
  },
  {
   "cell_type": "code",
   "execution_count": 24,
   "id": "caa5bd72",
   "metadata": {},
   "outputs": [
    {
     "data": {
      "text/plain": [
       "array(['Urban', 'Rural', 'Semiurban'], dtype=object)"
      ]
     },
     "execution_count": 24,
     "metadata": {},
     "output_type": "execute_result"
    }
   ],
   "source": [
    "train['Property_Area'].unique()"
   ]
  },
  {
   "cell_type": "code",
   "execution_count": 25,
   "id": "b44119b0",
   "metadata": {},
   "outputs": [
    {
     "data": {
      "text/plain": [
       "array(['Y', 'N'], dtype=object)"
      ]
     },
     "execution_count": 25,
     "metadata": {},
     "output_type": "execute_result"
    }
   ],
   "source": [
    "train['Loan_Status'].unique()"
   ]
  },
  {
   "cell_type": "code",
   "execution_count": 26,
   "id": "fb75403c",
   "metadata": {},
   "outputs": [
    {
     "data": {
      "text/html": [
       "<div>\n",
       "<style scoped>\n",
       "    .dataframe tbody tr th:only-of-type {\n",
       "        vertical-align: middle;\n",
       "    }\n",
       "\n",
       "    .dataframe tbody tr th {\n",
       "        vertical-align: top;\n",
       "    }\n",
       "\n",
       "    .dataframe thead th {\n",
       "        text-align: right;\n",
       "    }\n",
       "</style>\n",
       "<table border=\"1\" class=\"dataframe\">\n",
       "  <thead>\n",
       "    <tr style=\"text-align: right;\">\n",
       "      <th></th>\n",
       "      <th>Loan_ID</th>\n",
       "      <th>Gender</th>\n",
       "      <th>Married</th>\n",
       "      <th>Dependents</th>\n",
       "      <th>Education</th>\n",
       "      <th>Self_Employed</th>\n",
       "      <th>ApplicantIncome</th>\n",
       "      <th>CoapplicantIncome</th>\n",
       "      <th>LoanAmount</th>\n",
       "      <th>Loan_Amount_Term</th>\n",
       "      <th>Credit_History</th>\n",
       "      <th>Property_Area</th>\n",
       "      <th>Loan_Status</th>\n",
       "    </tr>\n",
       "  </thead>\n",
       "  <tbody>\n",
       "    <tr>\n",
       "      <th>0</th>\n",
       "      <td>LP001002</td>\n",
       "      <td>Male</td>\n",
       "      <td>No</td>\n",
       "      <td>0</td>\n",
       "      <td>Graduate</td>\n",
       "      <td>No</td>\n",
       "      <td>5849</td>\n",
       "      <td>0.0</td>\n",
       "      <td>128.0</td>\n",
       "      <td>360.0</td>\n",
       "      <td>1.0</td>\n",
       "      <td>Urban</td>\n",
       "      <td>Y</td>\n",
       "    </tr>\n",
       "    <tr>\n",
       "      <th>1</th>\n",
       "      <td>LP001003</td>\n",
       "      <td>Male</td>\n",
       "      <td>Yes</td>\n",
       "      <td>1</td>\n",
       "      <td>Graduate</td>\n",
       "      <td>No</td>\n",
       "      <td>4583</td>\n",
       "      <td>1508.0</td>\n",
       "      <td>128.0</td>\n",
       "      <td>360.0</td>\n",
       "      <td>1.0</td>\n",
       "      <td>Rural</td>\n",
       "      <td>N</td>\n",
       "    </tr>\n",
       "    <tr>\n",
       "      <th>2</th>\n",
       "      <td>LP001005</td>\n",
       "      <td>Male</td>\n",
       "      <td>Yes</td>\n",
       "      <td>0</td>\n",
       "      <td>Graduate</td>\n",
       "      <td>Yes</td>\n",
       "      <td>3000</td>\n",
       "      <td>0.0</td>\n",
       "      <td>66.0</td>\n",
       "      <td>360.0</td>\n",
       "      <td>1.0</td>\n",
       "      <td>Urban</td>\n",
       "      <td>Y</td>\n",
       "    </tr>\n",
       "    <tr>\n",
       "      <th>3</th>\n",
       "      <td>LP001006</td>\n",
       "      <td>Male</td>\n",
       "      <td>Yes</td>\n",
       "      <td>0</td>\n",
       "      <td>Not Graduate</td>\n",
       "      <td>No</td>\n",
       "      <td>2583</td>\n",
       "      <td>2358.0</td>\n",
       "      <td>120.0</td>\n",
       "      <td>360.0</td>\n",
       "      <td>1.0</td>\n",
       "      <td>Urban</td>\n",
       "      <td>Y</td>\n",
       "    </tr>\n",
       "    <tr>\n",
       "      <th>4</th>\n",
       "      <td>LP001008</td>\n",
       "      <td>Male</td>\n",
       "      <td>No</td>\n",
       "      <td>0</td>\n",
       "      <td>Graduate</td>\n",
       "      <td>No</td>\n",
       "      <td>6000</td>\n",
       "      <td>0.0</td>\n",
       "      <td>141.0</td>\n",
       "      <td>360.0</td>\n",
       "      <td>1.0</td>\n",
       "      <td>Urban</td>\n",
       "      <td>Y</td>\n",
       "    </tr>\n",
       "    <tr>\n",
       "      <th>...</th>\n",
       "      <td>...</td>\n",
       "      <td>...</td>\n",
       "      <td>...</td>\n",
       "      <td>...</td>\n",
       "      <td>...</td>\n",
       "      <td>...</td>\n",
       "      <td>...</td>\n",
       "      <td>...</td>\n",
       "      <td>...</td>\n",
       "      <td>...</td>\n",
       "      <td>...</td>\n",
       "      <td>...</td>\n",
       "      <td>...</td>\n",
       "    </tr>\n",
       "    <tr>\n",
       "      <th>609</th>\n",
       "      <td>LP002978</td>\n",
       "      <td>Female</td>\n",
       "      <td>No</td>\n",
       "      <td>0</td>\n",
       "      <td>Graduate</td>\n",
       "      <td>No</td>\n",
       "      <td>2900</td>\n",
       "      <td>0.0</td>\n",
       "      <td>71.0</td>\n",
       "      <td>360.0</td>\n",
       "      <td>1.0</td>\n",
       "      <td>Rural</td>\n",
       "      <td>Y</td>\n",
       "    </tr>\n",
       "    <tr>\n",
       "      <th>610</th>\n",
       "      <td>LP002979</td>\n",
       "      <td>Male</td>\n",
       "      <td>Yes</td>\n",
       "      <td>3+</td>\n",
       "      <td>Graduate</td>\n",
       "      <td>No</td>\n",
       "      <td>4106</td>\n",
       "      <td>0.0</td>\n",
       "      <td>40.0</td>\n",
       "      <td>180.0</td>\n",
       "      <td>1.0</td>\n",
       "      <td>Rural</td>\n",
       "      <td>Y</td>\n",
       "    </tr>\n",
       "    <tr>\n",
       "      <th>611</th>\n",
       "      <td>LP002983</td>\n",
       "      <td>Male</td>\n",
       "      <td>Yes</td>\n",
       "      <td>1</td>\n",
       "      <td>Graduate</td>\n",
       "      <td>No</td>\n",
       "      <td>8072</td>\n",
       "      <td>240.0</td>\n",
       "      <td>253.0</td>\n",
       "      <td>360.0</td>\n",
       "      <td>1.0</td>\n",
       "      <td>Urban</td>\n",
       "      <td>Y</td>\n",
       "    </tr>\n",
       "    <tr>\n",
       "      <th>612</th>\n",
       "      <td>LP002984</td>\n",
       "      <td>Male</td>\n",
       "      <td>Yes</td>\n",
       "      <td>2</td>\n",
       "      <td>Graduate</td>\n",
       "      <td>No</td>\n",
       "      <td>7583</td>\n",
       "      <td>0.0</td>\n",
       "      <td>187.0</td>\n",
       "      <td>360.0</td>\n",
       "      <td>1.0</td>\n",
       "      <td>Urban</td>\n",
       "      <td>Y</td>\n",
       "    </tr>\n",
       "    <tr>\n",
       "      <th>613</th>\n",
       "      <td>LP002990</td>\n",
       "      <td>Female</td>\n",
       "      <td>No</td>\n",
       "      <td>0</td>\n",
       "      <td>Graduate</td>\n",
       "      <td>Yes</td>\n",
       "      <td>4583</td>\n",
       "      <td>0.0</td>\n",
       "      <td>133.0</td>\n",
       "      <td>360.0</td>\n",
       "      <td>0.0</td>\n",
       "      <td>Semiurban</td>\n",
       "      <td>N</td>\n",
       "    </tr>\n",
       "  </tbody>\n",
       "</table>\n",
       "<p>614 rows × 13 columns</p>\n",
       "</div>"
      ],
      "text/plain": [
       "      Loan_ID  Gender Married Dependents     Education Self_Employed  \\\n",
       "0    LP001002    Male      No          0      Graduate            No   \n",
       "1    LP001003    Male     Yes          1      Graduate            No   \n",
       "2    LP001005    Male     Yes          0      Graduate           Yes   \n",
       "3    LP001006    Male     Yes          0  Not Graduate            No   \n",
       "4    LP001008    Male      No          0      Graduate            No   \n",
       "..        ...     ...     ...        ...           ...           ...   \n",
       "609  LP002978  Female      No          0      Graduate            No   \n",
       "610  LP002979    Male     Yes         3+      Graduate            No   \n",
       "611  LP002983    Male     Yes          1      Graduate            No   \n",
       "612  LP002984    Male     Yes          2      Graduate            No   \n",
       "613  LP002990  Female      No          0      Graduate           Yes   \n",
       "\n",
       "     ApplicantIncome  CoapplicantIncome  LoanAmount  Loan_Amount_Term  \\\n",
       "0               5849                0.0       128.0             360.0   \n",
       "1               4583             1508.0       128.0             360.0   \n",
       "2               3000                0.0        66.0             360.0   \n",
       "3               2583             2358.0       120.0             360.0   \n",
       "4               6000                0.0       141.0             360.0   \n",
       "..               ...                ...         ...               ...   \n",
       "609             2900                0.0        71.0             360.0   \n",
       "610             4106                0.0        40.0             180.0   \n",
       "611             8072              240.0       253.0             360.0   \n",
       "612             7583                0.0       187.0             360.0   \n",
       "613             4583                0.0       133.0             360.0   \n",
       "\n",
       "     Credit_History Property_Area Loan_Status  \n",
       "0               1.0         Urban           Y  \n",
       "1               1.0         Rural           N  \n",
       "2               1.0         Urban           Y  \n",
       "3               1.0         Urban           Y  \n",
       "4               1.0         Urban           Y  \n",
       "..              ...           ...         ...  \n",
       "609             1.0         Rural           Y  \n",
       "610             1.0         Rural           Y  \n",
       "611             1.0         Urban           Y  \n",
       "612             1.0         Urban           Y  \n",
       "613             0.0     Semiurban           N  \n",
       "\n",
       "[614 rows x 13 columns]"
      ]
     },
     "execution_count": 26,
     "metadata": {},
     "output_type": "execute_result"
    }
   ],
   "source": [
    "train"
   ]
  },
  {
   "cell_type": "code",
   "execution_count": 27,
   "id": "b29110ee",
   "metadata": {},
   "outputs": [
    {
     "data": {
      "text/plain": [
       "<AxesSubplot:>"
      ]
     },
     "execution_count": 27,
     "metadata": {},
     "output_type": "execute_result"
    },
    {
     "data": {
      "image/png": "[encoded data removed]",
      "text/plain": [
       "<Figure size 432x288 with 1 Axes>"
      ]
     },
     "metadata": {
      "needs_background": "light"
     },
     "output_type": "display_data"
    }
   ],
   "source": [
    "train['Loan_Status'].value_counts().plot.bar()"
   ]
  },
  {
   "cell_type": "markdown",
   "id": "fa1972c8",
   "metadata": {},
   "source": [
    "#### Analyzing Feature columns Catergorical Classes"
   ]
  },
  {
   "cell_type": "code",
   "execution_count": 28,
   "id": "0e4211a7",
   "metadata": {},
   "outputs": [
    {
     "data": {
      "text/plain": [
       "<AxesSubplot:xlabel='Dependents', ylabel='count'>"
      ]
     },
     "execution_count": 28,
     "metadata": {},
     "output_type": "execute_result"
    },
    {
     "data": {
      "image/png": "[encoded data removed]",
      "text/plain": [
       "<Figure size 1080x720 with 8 Axes>"
      ]
     },
     "metadata": {
      "needs_background": "light"
     },
     "output_type": "display_data"
    }
   ],
   "source": [
    "# Univariate Analysis:\n",
    "fig,ax = plt.subplots(2,4,figsize=(15,10))\n",
    "sns.countplot(x='Loan_Status', data = train, ax=ax[0][0])\n",
    "sns.countplot(x='Gender', data = train, ax=ax[0][1])\n",
    "sns.countplot(x='Married', data = train, ax=ax[0][2])\n",
    "sns.countplot(x='Education', data = train, ax=ax[0][3])\n",
    "sns.countplot(x='Self_Employed', data = train, ax=ax[1][0])\n",
    "sns.countplot(x='Property_Area', data = train, ax=ax[1][1])\n",
    "sns.countplot(x='Credit_History', data = train, ax=ax[1][2])\n",
    "sns.countplot(x='Dependents', data = train, ax=ax[1][3])"
   ]
  },
  {
   "cell_type": "code",
   "execution_count": 29,
   "id": "78c57fbd",
   "metadata": {},
   "outputs": [
    {
     "data": {
      "text/plain": [
       "<AxesSubplot:xlabel='Loan_Amount_Term', ylabel='count'>"
      ]
     },
     "execution_count": 29,
     "metadata": {},
     "output_type": "execute_result"
    },
    {
     "data": {
      "image/png": "[encoded data removed]",
      "text/plain": [
       "<Figure size 432x288 with 1 Axes>"
      ]
     },
     "metadata": {
      "needs_background": "light"
     },
     "output_type": "display_data"
    }
   ],
   "source": [
    "sns.countplot(x='Loan_Amount_Term', data = train)"
   ]
  },
  {
   "cell_type": "markdown",
   "id": "15898a16",
   "metadata": {},
   "source": [
    "#### Analyzing Feature columns with Continuous Data"
   ]
  },
  {
   "cell_type": "code",
   "execution_count": 30,
   "id": "f8d0fe87",
   "metadata": {},
   "outputs": [
    {
     "data": {
      "image/png": "[encoded data removed]",
      "text/plain": [
       "<Figure size 1440x1800 with 3 Axes>"
      ]
     },
     "metadata": {},
     "output_type": "display_data"
    }
   ],
   "source": [
    "plt.figure(figsize=(20,25),facecolor='white')\n",
    "plotnum=1\n",
    "for col in train[['ApplicantIncome','CoapplicantIncome','LoanAmount']]:\n",
    "    if plotnum<=10:\n",
    "        plt.subplot(4,4,plotnum)\n",
    "        sns.distplot(train[col])\n",
    "        plt.xlabel(col,fontsize=20)\n",
    "    plotnum+=1\n",
    "plt.show()"
   ]
  },
  {
   "cell_type": "markdown",
   "id": "1679b73e",
   "metadata": {},
   "source": [
    "Skewness is present in the data\n",
    "ApplicantIncome, CoapplicantIncome and LoanAmount are left skewed"
   ]
  },
  {
   "cell_type": "code",
   "execution_count": 31,
   "id": "a900429f",
   "metadata": {
    "scrolled": true
   },
   "outputs": [
    {
     "data": {
      "text/plain": [
       "ApplicantIncome      6.539513\n",
       "CoapplicantIncome    7.491531\n",
       "LoanAmount           2.613890\n",
       "dtype: float64"
      ]
     },
     "execution_count": 31,
     "metadata": {},
     "output_type": "execute_result"
    }
   ],
   "source": [
    "train[['ApplicantIncome','CoapplicantIncome','LoanAmount']].skew()"
   ]
  },
  {
   "cell_type": "markdown",
   "id": "efe2b231",
   "metadata": {},
   "source": [
    "Bivariate Analysis:"
   ]
  },
  {
   "cell_type": "code",
   "execution_count": 32,
   "id": "f57db79e",
   "metadata": {},
   "outputs": [
    {
     "data": {
      "image/png": "[encoded data removed]",
      "text/plain": [
       "<Figure size 428.625x360 with 1 Axes>"
      ]
     },
     "metadata": {
      "needs_background": "light"
     },
     "output_type": "display_data"
    }
   ],
   "source": [
    "sns.factorplot('Gender',kind='count',data=train,hue='Loan_Status',palette='tab10')\n",
    "plt.show()"
   ]
  },
  {
   "cell_type": "code",
   "execution_count": 33,
   "id": "efcf5572",
   "metadata": {
    "scrolled": true
   },
   "outputs": [
    {
     "data": {
      "image/png": "[encoded data removed]",
      "text/plain": [
       "<Figure size 428.625x360 with 1 Axes>"
      ]
     },
     "metadata": {
      "needs_background": "light"
     },
     "output_type": "display_data"
    }
   ],
   "source": [
    "sns.factorplot('Married',kind='count',data=train,hue='Loan_Status',palette='tab10')\n",
    "plt.show()"
   ]
  },
  {
   "cell_type": "code",
   "execution_count": 34,
   "id": "71215776",
   "metadata": {},
   "outputs": [
    {
     "data": {
      "image/png": "[encoded data removed]",
      "text/plain": [
       "<Figure size 428.625x360 with 1 Axes>"
      ]
     },
     "metadata": {
      "needs_background": "light"
     },
     "output_type": "display_data"
    }
   ],
   "source": [
    "sns.factorplot('Education',kind='count',data=train,hue='Loan_Status',palette='tab10')\n",
    "plt.show()"
   ]
  },
  {
   "cell_type": "code",
   "execution_count": 35,
   "id": "0c1e0e18",
   "metadata": {},
   "outputs": [
    {
     "data": {
      "image/png": "[encoded data removed]",
      "text/plain": [
       "<Figure size 428.625x360 with 1 Axes>"
      ]
     },
     "metadata": {
      "needs_background": "light"
     },
     "output_type": "display_data"
    }
   ],
   "source": [
    "sns.factorplot('Self_Employed',kind='count',data=train,hue='Loan_Status',palette='tab10')\n",
    "\n",
    "plt.show()"
   ]
  },
  {
   "cell_type": "code",
   "execution_count": 36,
   "id": "4e4088ef",
   "metadata": {},
   "outputs": [
    {
     "data": {
      "image/png": "[encoded data removed]",
      "text/plain": [
       "<Figure size 428.625x360 with 1 Axes>"
      ]
     },
     "metadata": {
      "needs_background": "light"
     },
     "output_type": "display_data"
    }
   ],
   "source": [
    "sns.factorplot('Property_Area',kind='count',data=train,hue='Loan_Status',palette='tab10')\n",
    "plt.show()"
   ]
  },
  {
   "cell_type": "code",
   "execution_count": 37,
   "id": "c0938de9",
   "metadata": {},
   "outputs": [
    {
     "data": {
      "image/png": "[encoded data removed]",
      "text/plain": [
       "<Figure size 428.625x360 with 1 Axes>"
      ]
     },
     "metadata": {
      "needs_background": "light"
     },
     "output_type": "display_data"
    }
   ],
   "source": [
    "sns.factorplot('Credit_History',kind='count',data=train,hue='Loan_Status',palette='tab10')\n",
    "plt.show()"
   ]
  },
  {
   "cell_type": "code",
   "execution_count": 38,
   "id": "85df212e",
   "metadata": {},
   "outputs": [
    {
     "data": {
      "image/png": "[encoded data removed]",
      "text/plain": [
       "<Figure size 428.625x360 with 1 Axes>"
      ]
     },
     "metadata": {
      "needs_background": "light"
     },
     "output_type": "display_data"
    }
   ],
   "source": [
    "sns.factorplot('Dependents',kind='count',data=train,hue='Loan_Status',palette='tab10')\n",
    "plt.show()"
   ]
  },
  {
   "cell_type": "code",
   "execution_count": 39,
   "id": "1dc53333",
   "metadata": {},
   "outputs": [
    {
     "data": {
      "image/png": "[encoded data removed]",
      "text/plain": [
       "<Figure size 968.625x900 with 30 Axes>"
      ]
     },
     "metadata": {
      "needs_background": "light"
     },
     "output_type": "display_data"
    }
   ],
   "source": [
    "sns.pairplot(train,hue=\"Loan_Status\",palette=\"tab10\")\n",
    "plt.show()"
   ]
  },
  {
   "cell_type": "markdown",
   "id": "90808f82",
   "metadata": {},
   "source": [
    "#### checking for outliers:"
   ]
  },
  {
   "cell_type": "code",
   "execution_count": 40,
   "id": "f39e58b3",
   "metadata": {},
   "outputs": [],
   "source": [
    "X = train.drop(columns = ['Loan_Status'])\n",
    "y = train['Loan_Status']"
   ]
  },
  {
   "cell_type": "code",
   "execution_count": 41,
   "id": "f0dd08b1",
   "metadata": {
    "scrolled": true
   },
   "outputs": [
    {
     "data": {
      "image/png": "[encoded data removed]",
      "text/plain": [
       "<Figure size 1440x1800 with 3 Axes>"
      ]
     },
     "metadata": {},
     "output_type": "display_data"
    }
   ],
   "source": [
    "plt.figure(figsize=(20,25),facecolor='white')\n",
    "plotnum=1\n",
    "for col in X[['ApplicantIncome','CoapplicantIncome','LoanAmount']]:\n",
    "    if plotnum<=16:\n",
    "        plt.subplot(4,4,plotnum)\n",
    "        sns.boxplot(X[col])\n",
    "        plt.xlabel(col,fontsize=20)\n",
    "    plotnum+=1\n",
    "plt.show()"
   ]
  },
  {
   "cell_type": "code",
   "execution_count": 42,
   "id": "5ec5d25a",
   "metadata": {},
   "outputs": [
    {
     "data": {
      "text/plain": [
       "ApplicantIncome      6.539513\n",
       "CoapplicantIncome    7.491531\n",
       "LoanAmount           2.613890\n",
       "Loan_Amount_Term    -2.293829\n",
       "Credit_History      -1.814433\n",
       "dtype: float64"
      ]
     },
     "execution_count": 42,
     "metadata": {},
     "output_type": "execute_result"
    }
   ],
   "source": [
    "X.skew()"
   ]
  },
  {
   "cell_type": "markdown",
   "id": "f7248ac3",
   "metadata": {},
   "source": [
    "outliers are present in the above columns"
   ]
  },
  {
   "cell_type": "code",
   "execution_count": 43,
   "id": "ea6c96ec",
   "metadata": {},
   "outputs": [],
   "source": [
    "df1 = X[['ApplicantIncome','CoapplicantIncome','LoanAmount']].copy()"
   ]
  },
  {
   "cell_type": "code",
   "execution_count": 44,
   "id": "ce1049ea",
   "metadata": {},
   "outputs": [
    {
     "data": {
      "text/html": [
       "<div>\n",
       "<style scoped>\n",
       "    .dataframe tbody tr th:only-of-type {\n",
       "        vertical-align: middle;\n",
       "    }\n",
       "\n",
       "    .dataframe tbody tr th {\n",
       "        vertical-align: top;\n",
       "    }\n",
       "\n",
       "    .dataframe thead th {\n",
       "        text-align: right;\n",
       "    }\n",
       "</style>\n",
       "<table border=\"1\" class=\"dataframe\">\n",
       "  <thead>\n",
       "    <tr style=\"text-align: right;\">\n",
       "      <th></th>\n",
       "      <th>ApplicantIncome</th>\n",
       "      <th>CoapplicantIncome</th>\n",
       "      <th>LoanAmount</th>\n",
       "    </tr>\n",
       "  </thead>\n",
       "  <tbody>\n",
       "    <tr>\n",
       "      <th>0</th>\n",
       "      <td>5849</td>\n",
       "      <td>0.0</td>\n",
       "      <td>128.0</td>\n",
       "    </tr>\n",
       "    <tr>\n",
       "      <th>1</th>\n",
       "      <td>4583</td>\n",
       "      <td>1508.0</td>\n",
       "      <td>128.0</td>\n",
       "    </tr>\n",
       "    <tr>\n",
       "      <th>2</th>\n",
       "      <td>3000</td>\n",
       "      <td>0.0</td>\n",
       "      <td>66.0</td>\n",
       "    </tr>\n",
       "    <tr>\n",
       "      <th>3</th>\n",
       "      <td>2583</td>\n",
       "      <td>2358.0</td>\n",
       "      <td>120.0</td>\n",
       "    </tr>\n",
       "    <tr>\n",
       "      <th>4</th>\n",
       "      <td>6000</td>\n",
       "      <td>0.0</td>\n",
       "      <td>141.0</td>\n",
       "    </tr>\n",
       "    <tr>\n",
       "      <th>...</th>\n",
       "      <td>...</td>\n",
       "      <td>...</td>\n",
       "      <td>...</td>\n",
       "    </tr>\n",
       "    <tr>\n",
       "      <th>609</th>\n",
       "      <td>2900</td>\n",
       "      <td>0.0</td>\n",
       "      <td>71.0</td>\n",
       "    </tr>\n",
       "    <tr>\n",
       "      <th>610</th>\n",
       "      <td>4106</td>\n",
       "      <td>0.0</td>\n",
       "      <td>40.0</td>\n",
       "    </tr>\n",
       "    <tr>\n",
       "      <th>611</th>\n",
       "      <td>8072</td>\n",
       "      <td>240.0</td>\n",
       "      <td>253.0</td>\n",
       "    </tr>\n",
       "    <tr>\n",
       "      <th>612</th>\n",
       "      <td>7583</td>\n",
       "      <td>0.0</td>\n",
       "      <td>187.0</td>\n",
       "    </tr>\n",
       "    <tr>\n",
       "      <th>613</th>\n",
       "      <td>4583</td>\n",
       "      <td>0.0</td>\n",
       "      <td>133.0</td>\n",
       "    </tr>\n",
       "  </tbody>\n",
       "</table>\n",
       "<p>614 rows × 3 columns</p>\n",
       "</div>"
      ],
      "text/plain": [
       "     ApplicantIncome  CoapplicantIncome  LoanAmount\n",
       "0               5849                0.0       128.0\n",
       "1               4583             1508.0       128.0\n",
       "2               3000                0.0        66.0\n",
       "3               2583             2358.0       120.0\n",
       "4               6000                0.0       141.0\n",
       "..               ...                ...         ...\n",
       "609             2900                0.0        71.0\n",
       "610             4106                0.0        40.0\n",
       "611             8072              240.0       253.0\n",
       "612             7583                0.0       187.0\n",
       "613             4583                0.0       133.0\n",
       "\n",
       "[614 rows x 3 columns]"
      ]
     },
     "execution_count": 44,
     "metadata": {},
     "output_type": "execute_result"
    }
   ],
   "source": [
    "df1"
   ]
  },
  {
   "cell_type": "markdown",
   "id": "6bd6cf7f",
   "metadata": {},
   "source": [
    "#### Removing outliers:"
   ]
  },
  {
   "cell_type": "code",
   "execution_count": 45,
   "id": "5005daac",
   "metadata": {},
   "outputs": [],
   "source": [
    "# Features containing outliers\n",
    "from scipy.stats import zscore\n",
    "zscor = zscore(df1)\n",
    "z_score_abs = np.abs(zscor)\n",
    "\n",
    "df2 = df1[(z_score_abs < 3).all(axis=1)] "
   ]
  },
  {
   "cell_type": "code",
   "execution_count": 46,
   "id": "a5f4bd67",
   "metadata": {},
   "outputs": [
    {
     "data": {
      "text/plain": [
       "(589, 3)"
      ]
     },
     "execution_count": 46,
     "metadata": {},
     "output_type": "execute_result"
    }
   ],
   "source": [
    "df2.shape"
   ]
  },
  {
   "cell_type": "code",
   "execution_count": 47,
   "id": "8d4f6874",
   "metadata": {},
   "outputs": [
    {
     "data": {
      "text/plain": [
       "(614, 3)"
      ]
     },
     "execution_count": 47,
     "metadata": {},
     "output_type": "execute_result"
    }
   ],
   "source": [
    "df1.shape"
   ]
  },
  {
   "cell_type": "code",
   "execution_count": 48,
   "id": "9c044c39",
   "metadata": {},
   "outputs": [
    {
     "data": {
      "text/plain": [
       "4.071661237785016"
      ]
     },
     "execution_count": 48,
     "metadata": {},
     "output_type": "execute_result"
    }
   ],
   "source": [
    "# Data loss\n",
    "loss=(614-589)/614 * 100\n",
    "loss"
   ]
  },
  {
   "cell_type": "markdown",
   "id": "1eb864a0",
   "metadata": {},
   "source": [
    "4.071% data loss is acceptable"
   ]
  },
  {
   "cell_type": "code",
   "execution_count": 49,
   "id": "f18a4f8e",
   "metadata": {},
   "outputs": [],
   "source": [
    "#Using IQR method\n",
    "\n",
    "df = X[['ApplicantIncome','CoapplicantIncome','LoanAmount']].copy()\n"
   ]
  },
  {
   "cell_type": "code",
   "execution_count": 50,
   "id": "e55f36c4",
   "metadata": {},
   "outputs": [
    {
     "data": {
      "text/plain": [
       "array([  9.,  34.,  54.,  67., 102., 106., 115., 119., 126., 128., 130.,\n",
       "       138., 144., 146., 155., 171., 183., 185., 191., 199., 254., 258.,\n",
       "       271., 278., 284., 308., 324., 333., 369., 370., 409., 424., 432.,\n",
       "       438., 443., 467., 475., 478., 483., 487., 493., 506., 509., 525.,\n",
       "       533., 534., 561., 572., 594., 604.,   9.,  12.,  38., 122., 135.,\n",
       "       177., 180., 253., 349., 372., 402., 417., 444., 506., 513., 523.,\n",
       "       581., 600.,   9.,  21.,  34.,  35.,  54.,  67., 126., 127., 130.,\n",
       "       135., 155., 161., 171., 177., 233., 253., 258., 260., 278., 308.,\n",
       "       324., 325., 333., 351., 369., 372., 381., 391., 409., 432., 487.,\n",
       "       506., 514., 523., 524., 525., 536., 561., 572., 592., 600., 604.,\n",
       "       605.])"
      ]
     },
     "execution_count": 50,
     "metadata": {},
     "output_type": "execute_result"
    }
   ],
   "source": [
    "indxdrop = np.array([])\n",
    "for colm in df:\n",
    "    q1 = df[colm].quantile(0.25)\n",
    "    q3 = df[colm].quantile(0.75)\n",
    "    iqr = q3-q1\n",
    "    upperval = q3 + (1.5*iqr)\n",
    "    lowerval = q1 - (1.5*iqr)\n",
    "    col = df[colm]\n",
    "    indx = col[(col > upperval) | (col < lowerval)].index\n",
    "    indxdrop = np.append(indxdrop, indx)\n",
    "# find all the indices of outliers in the columns using IQR and append them to indxdrop array \n",
    "indxdrop"
   ]
  },
  {
   "cell_type": "code",
   "execution_count": 51,
   "id": "a1d33671",
   "metadata": {},
   "outputs": [
    {
     "data": {
      "text/plain": [
       "array([  9.,  34.,  54.,  67., 102., 106., 115., 119., 126., 128., 130.,\n",
       "       138., 144., 146., 155., 171., 183., 185., 191., 199., 254., 258.,\n",
       "       271., 278., 284., 308., 324., 333., 369., 370., 409., 424., 432.,\n",
       "       438., 443., 467., 475., 478., 483., 487., 493., 506., 509., 525.,\n",
       "       533., 534., 561., 572., 594., 604.,   9.,  12.,  38., 122., 135.,\n",
       "       177., 180., 253., 349., 372., 402., 417., 444., 506., 513., 523.,\n",
       "       581., 600.,   9.,  21.,  34.,  35.,  54.,  67., 126., 127., 130.,\n",
       "       135., 155., 161., 171., 177., 233., 253., 258., 260., 278., 308.,\n",
       "       324., 325., 333., 351., 369., 372., 381., 391., 409., 432., 487.,\n",
       "       506., 514., 523., 524., 525., 536., 561., 572., 592., 600., 604.,\n",
       "       605.])"
      ]
     },
     "execution_count": 51,
     "metadata": {},
     "output_type": "execute_result"
    }
   ],
   "source": [
    "indxdrop"
   ]
  },
  {
   "cell_type": "code",
   "execution_count": 52,
   "id": "6b7e19b5",
   "metadata": {},
   "outputs": [],
   "source": [
    "df = df.drop(indxdrop)"
   ]
  },
  {
   "cell_type": "code",
   "execution_count": 53,
   "id": "3e82a2ba",
   "metadata": {},
   "outputs": [
    {
     "data": {
      "text/plain": [
       "(533, 3)"
      ]
     },
     "execution_count": 53,
     "metadata": {},
     "output_type": "execute_result"
    }
   ],
   "source": [
    "df.shape"
   ]
  },
  {
   "cell_type": "markdown",
   "id": "74f8af96",
   "metadata": {},
   "source": [
    "Data loss %:"
   ]
  },
  {
   "cell_type": "code",
   "execution_count": 54,
   "id": "38bea08a",
   "metadata": {},
   "outputs": [
    {
     "data": {
      "text/plain": [
       "12.866449511400651"
      ]
     },
     "execution_count": 54,
     "metadata": {},
     "output_type": "execute_result"
    }
   ],
   "source": [
    "loss=(614-535)/614 * 100\n",
    "loss"
   ]
  },
  {
   "cell_type": "markdown",
   "id": "4123cbbf",
   "metadata": {},
   "source": [
    "12.86% data loss is outside acceptable range."
   ]
  },
  {
   "cell_type": "code",
   "execution_count": 55,
   "id": "cbc95fc5",
   "metadata": {},
   "outputs": [
    {
     "data": {
      "text/plain": [
       "Int64Index([  9, 126, 130, 155, 171, 177, 183, 185, 278, 308, 333, 369, 402,\n",
       "            409, 417, 443, 487, 506, 523, 524, 561, 581, 600, 604, 605],\n",
       "           dtype='int64')"
      ]
     },
     "execution_count": 55,
     "metadata": {},
     "output_type": "execute_result"
    }
   ],
   "source": [
    "dropindx = X.index.difference(df2.index)\n",
    "dropindx"
   ]
  },
  {
   "cell_type": "code",
   "execution_count": 56,
   "id": "69634f0b",
   "metadata": {},
   "outputs": [],
   "source": [
    "train.drop(dropindx,inplace = True)"
   ]
  },
  {
   "cell_type": "code",
   "execution_count": 57,
   "id": "e7e8704f",
   "metadata": {},
   "outputs": [],
   "source": [
    "train.reset_index(drop=True,inplace = True)"
   ]
  },
  {
   "cell_type": "code",
   "execution_count": 58,
   "id": "1655165c",
   "metadata": {},
   "outputs": [
    {
     "data": {
      "text/plain": [
       "(589, 13)"
      ]
     },
     "execution_count": 58,
     "metadata": {},
     "output_type": "execute_result"
    }
   ],
   "source": [
    "train.shape"
   ]
  },
  {
   "cell_type": "markdown",
   "id": "101af96f",
   "metadata": {},
   "source": [
    "#### Reducing skewness further using PowerTransformer"
   ]
  },
  {
   "cell_type": "code",
   "execution_count": 59,
   "id": "c368b89e",
   "metadata": {},
   "outputs": [],
   "source": [
    "from sklearn.preprocessing import PowerTransformer\n",
    "powtrans= PowerTransformer(method='yeo-johnson', standardize=True)"
   ]
  },
  {
   "cell_type": "code",
   "execution_count": 60,
   "id": "191d1a64",
   "metadata": {},
   "outputs": [],
   "source": [
    "df3 = X[['ApplicantIncome','CoapplicantIncome','LoanAmount']]"
   ]
  },
  {
   "cell_type": "code",
   "execution_count": 61,
   "id": "15943210",
   "metadata": {},
   "outputs": [],
   "source": [
    "transformed= powtrans.fit_transform(df3)\n",
    "transformed = pd.DataFrame(transformed, columns=df3.columns)"
   ]
  },
  {
   "cell_type": "code",
   "execution_count": 62,
   "id": "04770f50",
   "metadata": {},
   "outputs": [
    {
     "data": {
      "text/plain": [
       "ApplicantIncome     -0.092946\n",
       "CoapplicantIncome   -0.145646\n",
       "LoanAmount           0.018129\n",
       "dtype: float64"
      ]
     },
     "execution_count": 62,
     "metadata": {},
     "output_type": "execute_result"
    }
   ],
   "source": [
    "transformed.skew()"
   ]
  },
  {
   "cell_type": "code",
   "execution_count": 63,
   "id": "c525190d",
   "metadata": {},
   "outputs": [],
   "source": [
    "transformed.index = X.index"
   ]
  },
  {
   "cell_type": "code",
   "execution_count": 64,
   "id": "9109fa8c",
   "metadata": {},
   "outputs": [],
   "source": [
    "train[['ApplicantIncome','CoapplicantIncome','LoanAmount']] = transformed[['ApplicantIncome','CoapplicantIncome','LoanAmount']]\n"
   ]
  },
  {
   "cell_type": "code",
   "execution_count": 65,
   "id": "213d192c",
   "metadata": {},
   "outputs": [
    {
     "data": {
      "text/plain": [
       "ApplicantIncome     -0.005597\n",
       "CoapplicantIncome   -0.171431\n",
       "LoanAmount          -0.000461\n",
       "Loan_Amount_Term    -2.355069\n",
       "Credit_History      -1.812746\n",
       "dtype: float64"
      ]
     },
     "execution_count": 65,
     "metadata": {},
     "output_type": "execute_result"
    }
   ],
   "source": [
    "train.skew()"
   ]
  },
  {
   "cell_type": "code",
   "execution_count": 66,
   "id": "6c2a0202",
   "metadata": {},
   "outputs": [
    {
     "data": {
      "image/png": "[encoded data removed]",
      "text/plain": [
       "<Figure size 1440x1800 with 3 Axes>"
      ]
     },
     "metadata": {},
     "output_type": "display_data"
    }
   ],
   "source": [
    "plt.figure(figsize=(20,25),facecolor='white')\n",
    "plotnum=1\n",
    "for col in train[['ApplicantIncome','CoapplicantIncome','LoanAmount']]:\n",
    "    if plotnum<=35:\n",
    "        plt.subplot(5,5,plotnum)\n",
    "        sns.distplot(train[col])\n",
    "        plt.xlabel(col,fontsize=20)\n",
    "    plotnum+=1\n",
    "plt.show()"
   ]
  },
  {
   "cell_type": "code",
   "execution_count": 67,
   "id": "36cf4bf3",
   "metadata": {},
   "outputs": [],
   "source": [
    "# Dropping the unwanted column fron train and test data\n",
    "train.drop('Loan_ID', inplace=True, axis=1)\n",
    "test.drop('Loan_ID', inplace=True, axis=1)"
   ]
  },
  {
   "cell_type": "code",
   "execution_count": 68,
   "id": "047cbf56",
   "metadata": {},
   "outputs": [],
   "source": [
    "train['Gender']=train['Gender'].map({'Male':1,'Female':0})\n",
    "train['Married'] = train['Married'].map({'No':0,'Yes':1}).astype(int)\n",
    "train['Education'] = train['Education'].map({'Not Graduate':0,'Graduate':1}).astype(int)\n",
    "train['Self_Employed'] = train['Self_Employed'].map({'No':0,'Yes':1}).astype(int)\n",
    "train['Credit_History'] = train['Credit_History'].astype(int)\n"
   ]
  },
  {
   "cell_type": "code",
   "execution_count": 69,
   "id": "0dc1123b",
   "metadata": {},
   "outputs": [],
   "source": [
    "test['Gender']=test['Gender'].map({'Male':1,'Female':0})\n",
    "test['Married'] = test['Married'].map({'No':0,'Yes':1}).astype(int)\n",
    "test['Education'] = test['Education'].map({'Not Graduate':0,'Graduate':1}).astype(int)\n",
    "test['Self_Employed'] = test['Self_Employed'].map({'No':0,'Yes':1}).astype(int)\n",
    "test['Credit_History'] = test['Credit_History'].astype(int)\n"
   ]
  },
  {
   "cell_type": "code",
   "execution_count": 70,
   "id": "123055e3",
   "metadata": {},
   "outputs": [
    {
     "data": {
      "image/png": "[encoded data removed]",
      "text/plain": [
       "<Figure size 432x288 with 1 Axes>"
      ]
     },
     "metadata": {},
     "output_type": "display_data"
    }
   ],
   "source": [
    "labels = 'Urban','Rural','Semiurban'\n",
    "fig, ax = plt.subplots()\n",
    "ax.pie(train['Property_Area'].value_counts(),labels = labels,radius =1,autopct = '%1.1f%%', shadow=True,)\n",
    "plt.show()"
   ]
  },
  {
   "cell_type": "code",
   "execution_count": 71,
   "id": "50892e46",
   "metadata": {},
   "outputs": [],
   "source": [
    "train['Property_Area'] = train['Property_Area'].map({'Urban':0,'Rural':1, 'Semiurban':2}).astype(int)\n",
    "train['Dependents'] = train['Dependents'].map({'0':0, '1':1, '2':2, '3+':3})"
   ]
  },
  {
   "cell_type": "code",
   "execution_count": 72,
   "id": "a272f7d4",
   "metadata": {},
   "outputs": [],
   "source": [
    "test['Property_Area'] = test['Property_Area'].map({'Urban':0,'Rural':1, 'Semiurban':2}).astype(int)\n",
    "test['Dependents'] = test['Dependents'].map({'0':0, '1':1, '2':2, '3+':3})"
   ]
  },
  {
   "cell_type": "code",
   "execution_count": 73,
   "id": "a5c107dd",
   "metadata": {},
   "outputs": [],
   "source": [
    "# train['Loan_Status'].value_counts().plot.bar()"
   ]
  },
  {
   "cell_type": "code",
   "execution_count": 74,
   "id": "c482e86c",
   "metadata": {},
   "outputs": [
    {
     "data": {
      "image/png": "[encoded data removed]",
      "text/plain": [
       "<Figure size 432x288 with 1 Axes>"
      ]
     },
     "metadata": {},
     "output_type": "display_data"
    }
   ],
   "source": [
    "labels = 'Y','N'\n",
    "fig, ax = plt.subplots()\n",
    "ax.pie(train['Loan_Status'].value_counts(),labels = labels,radius =1.2,autopct = '%1.1f%%', shadow=False)\n",
    "plt.show()\n"
   ]
  },
  {
   "cell_type": "markdown",
   "id": "7fed5ec5",
   "metadata": {},
   "source": [
    "around 69%  people out of 614 got the approval.\n",
    "\n",
    "Y : Has 68.73% of total values\n",
    "N : Has 31.27% of total values"
   ]
  },
  {
   "cell_type": "code",
   "execution_count": 75,
   "id": "8a3aa1f0",
   "metadata": {},
   "outputs": [
    {
     "data": {
      "text/html": [
       "<div>\n",
       "<style scoped>\n",
       "    .dataframe tbody tr th:only-of-type {\n",
       "        vertical-align: middle;\n",
       "    }\n",
       "\n",
       "    .dataframe tbody tr th {\n",
       "        vertical-align: top;\n",
       "    }\n",
       "\n",
       "    .dataframe thead th {\n",
       "        text-align: right;\n",
       "    }\n",
       "</style>\n",
       "<table border=\"1\" class=\"dataframe\">\n",
       "  <thead>\n",
       "    <tr style=\"text-align: right;\">\n",
       "      <th></th>\n",
       "      <th>Gender</th>\n",
       "      <th>Married</th>\n",
       "      <th>Dependents</th>\n",
       "      <th>Education</th>\n",
       "      <th>Self_Employed</th>\n",
       "      <th>ApplicantIncome</th>\n",
       "      <th>CoapplicantIncome</th>\n",
       "      <th>LoanAmount</th>\n",
       "      <th>Loan_Amount_Term</th>\n",
       "      <th>Credit_History</th>\n",
       "      <th>Property_Area</th>\n",
       "      <th>Loan_Status</th>\n",
       "    </tr>\n",
       "  </thead>\n",
       "  <tbody>\n",
       "    <tr>\n",
       "      <th>0</th>\n",
       "      <td>1</td>\n",
       "      <td>0</td>\n",
       "      <td>0</td>\n",
       "      <td>1</td>\n",
       "      <td>0</td>\n",
       "      <td>0.544331</td>\n",
       "      <td>-1.102837</td>\n",
       "      <td>-0.029929</td>\n",
       "      <td>360.0</td>\n",
       "      <td>1</td>\n",
       "      <td>0</td>\n",
       "      <td>1</td>\n",
       "    </tr>\n",
       "    <tr>\n",
       "      <th>1</th>\n",
       "      <td>1</td>\n",
       "      <td>1</td>\n",
       "      <td>1</td>\n",
       "      <td>1</td>\n",
       "      <td>0</td>\n",
       "      <td>0.170974</td>\n",
       "      <td>0.750578</td>\n",
       "      <td>-0.029929</td>\n",
       "      <td>360.0</td>\n",
       "      <td>1</td>\n",
       "      <td>1</td>\n",
       "      <td>0</td>\n",
       "    </tr>\n",
       "    <tr>\n",
       "      <th>2</th>\n",
       "      <td>1</td>\n",
       "      <td>1</td>\n",
       "      <td>0</td>\n",
       "      <td>1</td>\n",
       "      <td>1</td>\n",
       "      <td>-0.499955</td>\n",
       "      <td>-1.102837</td>\n",
       "      <td>-1.301781</td>\n",
       "      <td>360.0</td>\n",
       "      <td>1</td>\n",
       "      <td>0</td>\n",
       "      <td>1</td>\n",
       "    </tr>\n",
       "    <tr>\n",
       "      <th>3</th>\n",
       "      <td>1</td>\n",
       "      <td>1</td>\n",
       "      <td>0</td>\n",
       "      <td>0</td>\n",
       "      <td>0</td>\n",
       "      <td>-0.743873</td>\n",
       "      <td>0.891686</td>\n",
       "      <td>-0.156033</td>\n",
       "      <td>360.0</td>\n",
       "      <td>1</td>\n",
       "      <td>0</td>\n",
       "      <td>1</td>\n",
       "    </tr>\n",
       "    <tr>\n",
       "      <th>4</th>\n",
       "      <td>1</td>\n",
       "      <td>0</td>\n",
       "      <td>0</td>\n",
       "      <td>1</td>\n",
       "      <td>0</td>\n",
       "      <td>0.582817</td>\n",
       "      <td>-1.102837</td>\n",
       "      <td>0.159936</td>\n",
       "      <td>360.0</td>\n",
       "      <td>1</td>\n",
       "      <td>0</td>\n",
       "      <td>1</td>\n",
       "    </tr>\n",
       "    <tr>\n",
       "      <th>...</th>\n",
       "      <td>...</td>\n",
       "      <td>...</td>\n",
       "      <td>...</td>\n",
       "      <td>...</td>\n",
       "      <td>...</td>\n",
       "      <td>...</td>\n",
       "      <td>...</td>\n",
       "      <td>...</td>\n",
       "      <td>...</td>\n",
       "      <td>...</td>\n",
       "      <td>...</td>\n",
       "      <td>...</td>\n",
       "    </tr>\n",
       "    <tr>\n",
       "      <th>584</th>\n",
       "      <td>0</td>\n",
       "      <td>0</td>\n",
       "      <td>0</td>\n",
       "      <td>1</td>\n",
       "      <td>0</td>\n",
       "      <td>-0.619524</td>\n",
       "      <td>0.825863</td>\n",
       "      <td>0.228586</td>\n",
       "      <td>360.0</td>\n",
       "      <td>1</td>\n",
       "      <td>1</td>\n",
       "      <td>1</td>\n",
       "    </tr>\n",
       "    <tr>\n",
       "      <th>585</th>\n",
       "      <td>1</td>\n",
       "      <td>1</td>\n",
       "      <td>3</td>\n",
       "      <td>1</td>\n",
       "      <td>0</td>\n",
       "      <td>0.065702</td>\n",
       "      <td>0.969260</td>\n",
       "      <td>0.553238</td>\n",
       "      <td>180.0</td>\n",
       "      <td>1</td>\n",
       "      <td>1</td>\n",
       "      <td>1</td>\n",
       "    </tr>\n",
       "    <tr>\n",
       "      <th>586</th>\n",
       "      <td>1</td>\n",
       "      <td>1</td>\n",
       "      <td>1</td>\n",
       "      <td>1</td>\n",
       "      <td>0</td>\n",
       "      <td>-0.937723</td>\n",
       "      <td>0.753457</td>\n",
       "      <td>-0.433988</td>\n",
       "      <td>360.0</td>\n",
       "      <td>1</td>\n",
       "      <td>0</td>\n",
       "      <td>1</td>\n",
       "    </tr>\n",
       "    <tr>\n",
       "      <th>587</th>\n",
       "      <td>1</td>\n",
       "      <td>1</td>\n",
       "      <td>2</td>\n",
       "      <td>1</td>\n",
       "      <td>0</td>\n",
       "      <td>-1.036365</td>\n",
       "      <td>-1.102837</td>\n",
       "      <td>-1.190847</td>\n",
       "      <td>360.0</td>\n",
       "      <td>1</td>\n",
       "      <td>0</td>\n",
       "      <td>1</td>\n",
       "    </tr>\n",
       "    <tr>\n",
       "      <th>588</th>\n",
       "      <td>0</td>\n",
       "      <td>0</td>\n",
       "      <td>0</td>\n",
       "      <td>1</td>\n",
       "      <td>1</td>\n",
       "      <td>0.226337</td>\n",
       "      <td>-1.102837</td>\n",
       "      <td>-0.628967</td>\n",
       "      <td>360.0</td>\n",
       "      <td>0</td>\n",
       "      <td>2</td>\n",
       "      <td>0</td>\n",
       "    </tr>\n",
       "  </tbody>\n",
       "</table>\n",
       "<p>589 rows × 12 columns</p>\n",
       "</div>"
      ],
      "text/plain": [
       "     Gender  Married  Dependents  Education  Self_Employed  ApplicantIncome  \\\n",
       "0         1        0           0          1              0         0.544331   \n",
       "1         1        1           1          1              0         0.170974   \n",
       "2         1        1           0          1              1        -0.499955   \n",
       "3         1        1           0          0              0        -0.743873   \n",
       "4         1        0           0          1              0         0.582817   \n",
       "..      ...      ...         ...        ...            ...              ...   \n",
       "584       0        0           0          1              0        -0.619524   \n",
       "585       1        1           3          1              0         0.065702   \n",
       "586       1        1           1          1              0        -0.937723   \n",
       "587       1        1           2          1              0        -1.036365   \n",
       "588       0        0           0          1              1         0.226337   \n",
       "\n",
       "     CoapplicantIncome  LoanAmount  Loan_Amount_Term  Credit_History  \\\n",
       "0            -1.102837   -0.029929             360.0               1   \n",
       "1             0.750578   -0.029929             360.0               1   \n",
       "2            -1.102837   -1.301781             360.0               1   \n",
       "3             0.891686   -0.156033             360.0               1   \n",
       "4            -1.102837    0.159936             360.0               1   \n",
       "..                 ...         ...               ...             ...   \n",
       "584           0.825863    0.228586             360.0               1   \n",
       "585           0.969260    0.553238             180.0               1   \n",
       "586           0.753457   -0.433988             360.0               1   \n",
       "587          -1.102837   -1.190847             360.0               1   \n",
       "588          -1.102837   -0.628967             360.0               0   \n",
       "\n",
       "     Property_Area  Loan_Status  \n",
       "0                0            1  \n",
       "1                1            0  \n",
       "2                0            1  \n",
       "3                0            1  \n",
       "4                0            1  \n",
       "..             ...          ...  \n",
       "584              1            1  \n",
       "585              1            1  \n",
       "586              0            1  \n",
       "587              0            1  \n",
       "588              2            0  \n",
       "\n",
       "[589 rows x 12 columns]"
      ]
     },
     "execution_count": 75,
     "metadata": {},
     "output_type": "execute_result"
    }
   ],
   "source": [
    "train['Loan_Status'] = train['Loan_Status'].map({'N':0,'Y':1}).astype(int)\n",
    "train"
   ]
  },
  {
   "cell_type": "code",
   "execution_count": 76,
   "id": "1904062b",
   "metadata": {},
   "outputs": [],
   "source": [
    "# train.Loan_Amount_Term.unique()"
   ]
  },
  {
   "cell_type": "code",
   "execution_count": 77,
   "id": "c0f724b9",
   "metadata": {
    "scrolled": true
   },
   "outputs": [
    {
     "data": {
      "text/html": [
       "<div>\n",
       "<style scoped>\n",
       "    .dataframe tbody tr th:only-of-type {\n",
       "        vertical-align: middle;\n",
       "    }\n",
       "\n",
       "    .dataframe tbody tr th {\n",
       "        vertical-align: top;\n",
       "    }\n",
       "\n",
       "    .dataframe thead th {\n",
       "        text-align: right;\n",
       "    }\n",
       "</style>\n",
       "<table border=\"1\" class=\"dataframe\">\n",
       "  <thead>\n",
       "    <tr style=\"text-align: right;\">\n",
       "      <th></th>\n",
       "      <th>Gender</th>\n",
       "      <th>Married</th>\n",
       "      <th>Dependents</th>\n",
       "      <th>Education</th>\n",
       "      <th>Self_Employed</th>\n",
       "      <th>ApplicantIncome</th>\n",
       "      <th>CoapplicantIncome</th>\n",
       "      <th>LoanAmount</th>\n",
       "      <th>Loan_Amount_Term</th>\n",
       "      <th>Credit_History</th>\n",
       "      <th>Property_Area</th>\n",
       "      <th>Loan_Status</th>\n",
       "    </tr>\n",
       "  </thead>\n",
       "  <tbody>\n",
       "    <tr>\n",
       "      <th>0</th>\n",
       "      <td>1</td>\n",
       "      <td>0</td>\n",
       "      <td>0</td>\n",
       "      <td>1</td>\n",
       "      <td>0</td>\n",
       "      <td>0.544331</td>\n",
       "      <td>-1.102837</td>\n",
       "      <td>-0.029929</td>\n",
       "      <td>360.0</td>\n",
       "      <td>1</td>\n",
       "      <td>0</td>\n",
       "      <td>1</td>\n",
       "    </tr>\n",
       "    <tr>\n",
       "      <th>1</th>\n",
       "      <td>1</td>\n",
       "      <td>1</td>\n",
       "      <td>1</td>\n",
       "      <td>1</td>\n",
       "      <td>0</td>\n",
       "      <td>0.170974</td>\n",
       "      <td>0.750578</td>\n",
       "      <td>-0.029929</td>\n",
       "      <td>360.0</td>\n",
       "      <td>1</td>\n",
       "      <td>1</td>\n",
       "      <td>0</td>\n",
       "    </tr>\n",
       "    <tr>\n",
       "      <th>2</th>\n",
       "      <td>1</td>\n",
       "      <td>1</td>\n",
       "      <td>0</td>\n",
       "      <td>1</td>\n",
       "      <td>1</td>\n",
       "      <td>-0.499955</td>\n",
       "      <td>-1.102837</td>\n",
       "      <td>-1.301781</td>\n",
       "      <td>360.0</td>\n",
       "      <td>1</td>\n",
       "      <td>0</td>\n",
       "      <td>1</td>\n",
       "    </tr>\n",
       "    <tr>\n",
       "      <th>3</th>\n",
       "      <td>1</td>\n",
       "      <td>1</td>\n",
       "      <td>0</td>\n",
       "      <td>0</td>\n",
       "      <td>0</td>\n",
       "      <td>-0.743873</td>\n",
       "      <td>0.891686</td>\n",
       "      <td>-0.156033</td>\n",
       "      <td>360.0</td>\n",
       "      <td>1</td>\n",
       "      <td>0</td>\n",
       "      <td>1</td>\n",
       "    </tr>\n",
       "    <tr>\n",
       "      <th>4</th>\n",
       "      <td>1</td>\n",
       "      <td>0</td>\n",
       "      <td>0</td>\n",
       "      <td>1</td>\n",
       "      <td>0</td>\n",
       "      <td>0.582817</td>\n",
       "      <td>-1.102837</td>\n",
       "      <td>0.159936</td>\n",
       "      <td>360.0</td>\n",
       "      <td>1</td>\n",
       "      <td>0</td>\n",
       "      <td>1</td>\n",
       "    </tr>\n",
       "  </tbody>\n",
       "</table>\n",
       "</div>"
      ],
      "text/plain": [
       "   Gender  Married  Dependents  Education  Self_Employed  ApplicantIncome  \\\n",
       "0       1        0           0          1              0         0.544331   \n",
       "1       1        1           1          1              0         0.170974   \n",
       "2       1        1           0          1              1        -0.499955   \n",
       "3       1        1           0          0              0        -0.743873   \n",
       "4       1        0           0          1              0         0.582817   \n",
       "\n",
       "   CoapplicantIncome  LoanAmount  Loan_Amount_Term  Credit_History  \\\n",
       "0          -1.102837   -0.029929             360.0               1   \n",
       "1           0.750578   -0.029929             360.0               1   \n",
       "2          -1.102837   -1.301781             360.0               1   \n",
       "3           0.891686   -0.156033             360.0               1   \n",
       "4          -1.102837    0.159936             360.0               1   \n",
       "\n",
       "   Property_Area  Loan_Status  \n",
       "0              0            1  \n",
       "1              1            0  \n",
       "2              0            1  \n",
       "3              0            1  \n",
       "4              0            1  "
      ]
     },
     "execution_count": 77,
     "metadata": {},
     "output_type": "execute_result"
    }
   ],
   "source": [
    "train.head()"
   ]
  },
  {
   "cell_type": "code",
   "execution_count": 78,
   "id": "c835bd7f",
   "metadata": {},
   "outputs": [
    {
     "data": {
      "text/html": [
       "<div>\n",
       "<style scoped>\n",
       "    .dataframe tbody tr th:only-of-type {\n",
       "        vertical-align: middle;\n",
       "    }\n",
       "\n",
       "    .dataframe tbody tr th {\n",
       "        vertical-align: top;\n",
       "    }\n",
       "\n",
       "    .dataframe thead th {\n",
       "        text-align: right;\n",
       "    }\n",
       "</style>\n",
       "<table border=\"1\" class=\"dataframe\">\n",
       "  <thead>\n",
       "    <tr style=\"text-align: right;\">\n",
       "      <th></th>\n",
       "      <th>Gender</th>\n",
       "      <th>Married</th>\n",
       "      <th>Dependents</th>\n",
       "      <th>Education</th>\n",
       "      <th>Self_Employed</th>\n",
       "      <th>ApplicantIncome</th>\n",
       "      <th>CoapplicantIncome</th>\n",
       "      <th>LoanAmount</th>\n",
       "      <th>Loan_Amount_Term</th>\n",
       "      <th>Credit_History</th>\n",
       "      <th>Property_Area</th>\n",
       "      <th>Loan_Status</th>\n",
       "    </tr>\n",
       "  </thead>\n",
       "  <tbody>\n",
       "    <tr>\n",
       "      <th>Gender</th>\n",
       "      <td>1.000000</td>\n",
       "      <td>0.386365</td>\n",
       "      <td>0.187461</td>\n",
       "      <td>-0.050416</td>\n",
       "      <td>0.014260</td>\n",
       "      <td>-0.042519</td>\n",
       "      <td>0.093870</td>\n",
       "      <td>0.045624</td>\n",
       "      <td>-0.088303</td>\n",
       "      <td>-0.001356</td>\n",
       "      <td>-0.086220</td>\n",
       "      <td>0.022543</td>\n",
       "    </tr>\n",
       "    <tr>\n",
       "      <th>Married</th>\n",
       "      <td>0.386365</td>\n",
       "      <td>1.000000</td>\n",
       "      <td>0.335631</td>\n",
       "      <td>-0.014816</td>\n",
       "      <td>-0.005505</td>\n",
       "      <td>-0.004715</td>\n",
       "      <td>-0.002380</td>\n",
       "      <td>0.024540</td>\n",
       "      <td>-0.096100</td>\n",
       "      <td>0.008725</td>\n",
       "      <td>-0.003430</td>\n",
       "      <td>0.090631</td>\n",
       "    </tr>\n",
       "    <tr>\n",
       "      <th>Dependents</th>\n",
       "      <td>0.187461</td>\n",
       "      <td>0.335631</td>\n",
       "      <td>1.000000</td>\n",
       "      <td>-0.068576</td>\n",
       "      <td>0.047513</td>\n",
       "      <td>-0.036058</td>\n",
       "      <td>0.040688</td>\n",
       "      <td>0.039964</td>\n",
       "      <td>-0.075088</td>\n",
       "      <td>-0.053625</td>\n",
       "      <td>0.008894</td>\n",
       "      <td>0.004278</td>\n",
       "    </tr>\n",
       "    <tr>\n",
       "      <th>Education</th>\n",
       "      <td>-0.050416</td>\n",
       "      <td>-0.014816</td>\n",
       "      <td>-0.068576</td>\n",
       "      <td>1.000000</td>\n",
       "      <td>0.003423</td>\n",
       "      <td>-0.011219</td>\n",
       "      <td>0.015323</td>\n",
       "      <td>0.000785</td>\n",
       "      <td>0.076247</td>\n",
       "      <td>0.088644</td>\n",
       "      <td>-0.002188</td>\n",
       "      <td>0.091275</td>\n",
       "    </tr>\n",
       "    <tr>\n",
       "      <th>Self_Employed</th>\n",
       "      <td>0.014260</td>\n",
       "      <td>-0.005505</td>\n",
       "      <td>0.047513</td>\n",
       "      <td>0.003423</td>\n",
       "      <td>1.000000</td>\n",
       "      <td>0.088169</td>\n",
       "      <td>-0.055850</td>\n",
       "      <td>0.068755</td>\n",
       "      <td>-0.055537</td>\n",
       "      <td>-0.008778</td>\n",
       "      <td>0.023602</td>\n",
       "      <td>-0.002634</td>\n",
       "    </tr>\n",
       "    <tr>\n",
       "      <th>ApplicantIncome</th>\n",
       "      <td>-0.042519</td>\n",
       "      <td>-0.004715</td>\n",
       "      <td>-0.036058</td>\n",
       "      <td>-0.011219</td>\n",
       "      <td>0.088169</td>\n",
       "      <td>1.000000</td>\n",
       "      <td>-0.356046</td>\n",
       "      <td>0.473421</td>\n",
       "      <td>0.008998</td>\n",
       "      <td>0.003536</td>\n",
       "      <td>0.006201</td>\n",
       "      <td>0.005463</td>\n",
       "    </tr>\n",
       "    <tr>\n",
       "      <th>CoapplicantIncome</th>\n",
       "      <td>0.093870</td>\n",
       "      <td>-0.002380</td>\n",
       "      <td>0.040688</td>\n",
       "      <td>0.015323</td>\n",
       "      <td>-0.055850</td>\n",
       "      <td>-0.356046</td>\n",
       "      <td>1.000000</td>\n",
       "      <td>0.153047</td>\n",
       "      <td>0.001568</td>\n",
       "      <td>-0.027627</td>\n",
       "      <td>-0.023146</td>\n",
       "      <td>0.022641</td>\n",
       "    </tr>\n",
       "    <tr>\n",
       "      <th>LoanAmount</th>\n",
       "      <td>0.045624</td>\n",
       "      <td>0.024540</td>\n",
       "      <td>0.039964</td>\n",
       "      <td>0.000785</td>\n",
       "      <td>0.068755</td>\n",
       "      <td>0.473421</td>\n",
       "      <td>0.153047</td>\n",
       "      <td>1.000000</td>\n",
       "      <td>-0.022952</td>\n",
       "      <td>0.025671</td>\n",
       "      <td>-0.020052</td>\n",
       "      <td>0.011151</td>\n",
       "    </tr>\n",
       "    <tr>\n",
       "      <th>Loan_Amount_Term</th>\n",
       "      <td>-0.088303</td>\n",
       "      <td>-0.096100</td>\n",
       "      <td>-0.075088</td>\n",
       "      <td>0.076247</td>\n",
       "      <td>-0.055537</td>\n",
       "      <td>0.008998</td>\n",
       "      <td>0.001568</td>\n",
       "      <td>-0.022952</td>\n",
       "      <td>1.000000</td>\n",
       "      <td>-0.030076</td>\n",
       "      <td>0.072087</td>\n",
       "      <td>-0.039600</td>\n",
       "    </tr>\n",
       "    <tr>\n",
       "      <th>Credit_History</th>\n",
       "      <td>-0.001356</td>\n",
       "      <td>0.008725</td>\n",
       "      <td>-0.053625</td>\n",
       "      <td>0.088644</td>\n",
       "      <td>-0.008778</td>\n",
       "      <td>0.003536</td>\n",
       "      <td>-0.027627</td>\n",
       "      <td>0.025671</td>\n",
       "      <td>-0.030076</td>\n",
       "      <td>1.000000</td>\n",
       "      <td>0.020627</td>\n",
       "      <td>0.550070</td>\n",
       "    </tr>\n",
       "    <tr>\n",
       "      <th>Property_Area</th>\n",
       "      <td>-0.086220</td>\n",
       "      <td>-0.003430</td>\n",
       "      <td>0.008894</td>\n",
       "      <td>-0.002188</td>\n",
       "      <td>0.023602</td>\n",
       "      <td>0.006201</td>\n",
       "      <td>-0.023146</td>\n",
       "      <td>-0.020052</td>\n",
       "      <td>0.072087</td>\n",
       "      <td>0.020627</td>\n",
       "      <td>1.000000</td>\n",
       "      <td>0.100556</td>\n",
       "    </tr>\n",
       "    <tr>\n",
       "      <th>Loan_Status</th>\n",
       "      <td>0.022543</td>\n",
       "      <td>0.090631</td>\n",
       "      <td>0.004278</td>\n",
       "      <td>0.091275</td>\n",
       "      <td>-0.002634</td>\n",
       "      <td>0.005463</td>\n",
       "      <td>0.022641</td>\n",
       "      <td>0.011151</td>\n",
       "      <td>-0.039600</td>\n",
       "      <td>0.550070</td>\n",
       "      <td>0.100556</td>\n",
       "      <td>1.000000</td>\n",
       "    </tr>\n",
       "  </tbody>\n",
       "</table>\n",
       "</div>"
      ],
      "text/plain": [
       "                     Gender   Married  Dependents  Education  Self_Employed  \\\n",
       "Gender             1.000000  0.386365    0.187461  -0.050416       0.014260   \n",
       "Married            0.386365  1.000000    0.335631  -0.014816      -0.005505   \n",
       "Dependents         0.187461  0.335631    1.000000  -0.068576       0.047513   \n",
       "Education         -0.050416 -0.014816   -0.068576   1.000000       0.003423   \n",
       "Self_Employed      0.014260 -0.005505    0.047513   0.003423       1.000000   \n",
       "ApplicantIncome   -0.042519 -0.004715   -0.036058  -0.011219       0.088169   \n",
       "CoapplicantIncome  0.093870 -0.002380    0.040688   0.015323      -0.055850   \n",
       "LoanAmount         0.045624  0.024540    0.039964   0.000785       0.068755   \n",
       "Loan_Amount_Term  -0.088303 -0.096100   -0.075088   0.076247      -0.055537   \n",
       "Credit_History    -0.001356  0.008725   -0.053625   0.088644      -0.008778   \n",
       "Property_Area     -0.086220 -0.003430    0.008894  -0.002188       0.023602   \n",
       "Loan_Status        0.022543  0.090631    0.004278   0.091275      -0.002634   \n",
       "\n",
       "                   ApplicantIncome  CoapplicantIncome  LoanAmount  \\\n",
       "Gender                   -0.042519           0.093870    0.045624   \n",
       "Married                  -0.004715          -0.002380    0.024540   \n",
       "Dependents               -0.036058           0.040688    0.039964   \n",
       "Education                -0.011219           0.015323    0.000785   \n",
       "Self_Employed             0.088169          -0.055850    0.068755   \n",
       "ApplicantIncome           1.000000          -0.356046    0.473421   \n",
       "CoapplicantIncome        -0.356046           1.000000    0.153047   \n",
       "LoanAmount                0.473421           0.153047    1.000000   \n",
       "Loan_Amount_Term          0.008998           0.001568   -0.022952   \n",
       "Credit_History            0.003536          -0.027627    0.025671   \n",
       "Property_Area             0.006201          -0.023146   -0.020052   \n",
       "Loan_Status               0.005463           0.022641    0.011151   \n",
       "\n",
       "                   Loan_Amount_Term  Credit_History  Property_Area  \\\n",
       "Gender                    -0.088303       -0.001356      -0.086220   \n",
       "Married                   -0.096100        0.008725      -0.003430   \n",
       "Dependents                -0.075088       -0.053625       0.008894   \n",
       "Education                  0.076247        0.088644      -0.002188   \n",
       "Self_Employed             -0.055537       -0.008778       0.023602   \n",
       "ApplicantIncome            0.008998        0.003536       0.006201   \n",
       "CoapplicantIncome          0.001568       -0.027627      -0.023146   \n",
       "LoanAmount                -0.022952        0.025671      -0.020052   \n",
       "Loan_Amount_Term           1.000000       -0.030076       0.072087   \n",
       "Credit_History            -0.030076        1.000000       0.020627   \n",
       "Property_Area              0.072087        0.020627       1.000000   \n",
       "Loan_Status               -0.039600        0.550070       0.100556   \n",
       "\n",
       "                   Loan_Status  \n",
       "Gender                0.022543  \n",
       "Married               0.090631  \n",
       "Dependents            0.004278  \n",
       "Education             0.091275  \n",
       "Self_Employed        -0.002634  \n",
       "ApplicantIncome       0.005463  \n",
       "CoapplicantIncome     0.022641  \n",
       "LoanAmount            0.011151  \n",
       "Loan_Amount_Term     -0.039600  \n",
       "Credit_History        0.550070  \n",
       "Property_Area         0.100556  \n",
       "Loan_Status           1.000000  "
      ]
     },
     "execution_count": 78,
     "metadata": {},
     "output_type": "execute_result"
    }
   ],
   "source": [
    "train.corr()"
   ]
  },
  {
   "cell_type": "code",
   "execution_count": 79,
   "id": "19bc5e03",
   "metadata": {},
   "outputs": [
    {
     "data": {
      "text/plain": [
       "<AxesSubplot:>"
      ]
     },
     "execution_count": 79,
     "metadata": {},
     "output_type": "execute_result"
    },
    {
     "data": {
      "image/png": "[encoded data removed]",
      "text/plain": [
       "<Figure size 648x432 with 2 Axes>"
      ]
     },
     "metadata": {
      "needs_background": "light"
     },
     "output_type": "display_data"
    }
   ],
   "source": [
    "plt.subplots(figsize=(9, 6)) \n",
    "sns.heatmap(train.corr(), vmax=.8, square=True)\n"
   ]
  },
  {
   "cell_type": "code",
   "execution_count": 80,
   "id": "104fd5f2",
   "metadata": {},
   "outputs": [
    {
     "data": {
      "text/html": [
       "<div>\n",
       "<style scoped>\n",
       "    .dataframe tbody tr th:only-of-type {\n",
       "        vertical-align: middle;\n",
       "    }\n",
       "\n",
       "    .dataframe tbody tr th {\n",
       "        vertical-align: top;\n",
       "    }\n",
       "\n",
       "    .dataframe thead th {\n",
       "        text-align: right;\n",
       "    }\n",
       "</style>\n",
       "<table border=\"1\" class=\"dataframe\">\n",
       "  <thead>\n",
       "    <tr style=\"text-align: right;\">\n",
       "      <th></th>\n",
       "      <th>Gender</th>\n",
       "      <th>Married</th>\n",
       "      <th>Dependents</th>\n",
       "      <th>Education</th>\n",
       "      <th>Self_Employed</th>\n",
       "      <th>ApplicantIncome</th>\n",
       "      <th>CoapplicantIncome</th>\n",
       "      <th>LoanAmount</th>\n",
       "      <th>Loan_Amount_Term</th>\n",
       "      <th>Credit_History</th>\n",
       "      <th>Property_Area</th>\n",
       "      <th>Loan_Status</th>\n",
       "    </tr>\n",
       "  </thead>\n",
       "  <tbody>\n",
       "    <tr>\n",
       "      <th>0</th>\n",
       "      <td>1</td>\n",
       "      <td>0</td>\n",
       "      <td>0</td>\n",
       "      <td>1</td>\n",
       "      <td>0</td>\n",
       "      <td>0.544331</td>\n",
       "      <td>-1.102837</td>\n",
       "      <td>-0.029929</td>\n",
       "      <td>360.0</td>\n",
       "      <td>1</td>\n",
       "      <td>0</td>\n",
       "      <td>1</td>\n",
       "    </tr>\n",
       "    <tr>\n",
       "      <th>1</th>\n",
       "      <td>1</td>\n",
       "      <td>1</td>\n",
       "      <td>1</td>\n",
       "      <td>1</td>\n",
       "      <td>0</td>\n",
       "      <td>0.170974</td>\n",
       "      <td>0.750578</td>\n",
       "      <td>-0.029929</td>\n",
       "      <td>360.0</td>\n",
       "      <td>1</td>\n",
       "      <td>1</td>\n",
       "      <td>0</td>\n",
       "    </tr>\n",
       "    <tr>\n",
       "      <th>2</th>\n",
       "      <td>1</td>\n",
       "      <td>1</td>\n",
       "      <td>0</td>\n",
       "      <td>1</td>\n",
       "      <td>1</td>\n",
       "      <td>-0.499955</td>\n",
       "      <td>-1.102837</td>\n",
       "      <td>-1.301781</td>\n",
       "      <td>360.0</td>\n",
       "      <td>1</td>\n",
       "      <td>0</td>\n",
       "      <td>1</td>\n",
       "    </tr>\n",
       "    <tr>\n",
       "      <th>3</th>\n",
       "      <td>1</td>\n",
       "      <td>1</td>\n",
       "      <td>0</td>\n",
       "      <td>0</td>\n",
       "      <td>0</td>\n",
       "      <td>-0.743873</td>\n",
       "      <td>0.891686</td>\n",
       "      <td>-0.156033</td>\n",
       "      <td>360.0</td>\n",
       "      <td>1</td>\n",
       "      <td>0</td>\n",
       "      <td>1</td>\n",
       "    </tr>\n",
       "    <tr>\n",
       "      <th>4</th>\n",
       "      <td>1</td>\n",
       "      <td>0</td>\n",
       "      <td>0</td>\n",
       "      <td>1</td>\n",
       "      <td>0</td>\n",
       "      <td>0.582817</td>\n",
       "      <td>-1.102837</td>\n",
       "      <td>0.159936</td>\n",
       "      <td>360.0</td>\n",
       "      <td>1</td>\n",
       "      <td>0</td>\n",
       "      <td>1</td>\n",
       "    </tr>\n",
       "    <tr>\n",
       "      <th>...</th>\n",
       "      <td>...</td>\n",
       "      <td>...</td>\n",
       "      <td>...</td>\n",
       "      <td>...</td>\n",
       "      <td>...</td>\n",
       "      <td>...</td>\n",
       "      <td>...</td>\n",
       "      <td>...</td>\n",
       "      <td>...</td>\n",
       "      <td>...</td>\n",
       "      <td>...</td>\n",
       "      <td>...</td>\n",
       "    </tr>\n",
       "    <tr>\n",
       "      <th>584</th>\n",
       "      <td>0</td>\n",
       "      <td>0</td>\n",
       "      <td>0</td>\n",
       "      <td>1</td>\n",
       "      <td>0</td>\n",
       "      <td>-0.619524</td>\n",
       "      <td>0.825863</td>\n",
       "      <td>0.228586</td>\n",
       "      <td>360.0</td>\n",
       "      <td>1</td>\n",
       "      <td>1</td>\n",
       "      <td>1</td>\n",
       "    </tr>\n",
       "    <tr>\n",
       "      <th>585</th>\n",
       "      <td>1</td>\n",
       "      <td>1</td>\n",
       "      <td>3</td>\n",
       "      <td>1</td>\n",
       "      <td>0</td>\n",
       "      <td>0.065702</td>\n",
       "      <td>0.969260</td>\n",
       "      <td>0.553238</td>\n",
       "      <td>180.0</td>\n",
       "      <td>1</td>\n",
       "      <td>1</td>\n",
       "      <td>1</td>\n",
       "    </tr>\n",
       "    <tr>\n",
       "      <th>586</th>\n",
       "      <td>1</td>\n",
       "      <td>1</td>\n",
       "      <td>1</td>\n",
       "      <td>1</td>\n",
       "      <td>0</td>\n",
       "      <td>-0.937723</td>\n",
       "      <td>0.753457</td>\n",
       "      <td>-0.433988</td>\n",
       "      <td>360.0</td>\n",
       "      <td>1</td>\n",
       "      <td>0</td>\n",
       "      <td>1</td>\n",
       "    </tr>\n",
       "    <tr>\n",
       "      <th>587</th>\n",
       "      <td>1</td>\n",
       "      <td>1</td>\n",
       "      <td>2</td>\n",
       "      <td>1</td>\n",
       "      <td>0</td>\n",
       "      <td>-1.036365</td>\n",
       "      <td>-1.102837</td>\n",
       "      <td>-1.190847</td>\n",
       "      <td>360.0</td>\n",
       "      <td>1</td>\n",
       "      <td>0</td>\n",
       "      <td>1</td>\n",
       "    </tr>\n",
       "    <tr>\n",
       "      <th>588</th>\n",
       "      <td>0</td>\n",
       "      <td>0</td>\n",
       "      <td>0</td>\n",
       "      <td>1</td>\n",
       "      <td>1</td>\n",
       "      <td>0.226337</td>\n",
       "      <td>-1.102837</td>\n",
       "      <td>-0.628967</td>\n",
       "      <td>360.0</td>\n",
       "      <td>0</td>\n",
       "      <td>2</td>\n",
       "      <td>0</td>\n",
       "    </tr>\n",
       "  </tbody>\n",
       "</table>\n",
       "<p>589 rows × 12 columns</p>\n",
       "</div>"
      ],
      "text/plain": [
       "     Gender  Married  Dependents  Education  Self_Employed  ApplicantIncome  \\\n",
       "0         1        0           0          1              0         0.544331   \n",
       "1         1        1           1          1              0         0.170974   \n",
       "2         1        1           0          1              1        -0.499955   \n",
       "3         1        1           0          0              0        -0.743873   \n",
       "4         1        0           0          1              0         0.582817   \n",
       "..      ...      ...         ...        ...            ...              ...   \n",
       "584       0        0           0          1              0        -0.619524   \n",
       "585       1        1           3          1              0         0.065702   \n",
       "586       1        1           1          1              0        -0.937723   \n",
       "587       1        1           2          1              0        -1.036365   \n",
       "588       0        0           0          1              1         0.226337   \n",
       "\n",
       "     CoapplicantIncome  LoanAmount  Loan_Amount_Term  Credit_History  \\\n",
       "0            -1.102837   -0.029929             360.0               1   \n",
       "1             0.750578   -0.029929             360.0               1   \n",
       "2            -1.102837   -1.301781             360.0               1   \n",
       "3             0.891686   -0.156033             360.0               1   \n",
       "4            -1.102837    0.159936             360.0               1   \n",
       "..                 ...         ...               ...             ...   \n",
       "584           0.825863    0.228586             360.0               1   \n",
       "585           0.969260    0.553238             180.0               1   \n",
       "586           0.753457   -0.433988             360.0               1   \n",
       "587          -1.102837   -1.190847             360.0               1   \n",
       "588          -1.102837   -0.628967             360.0               0   \n",
       "\n",
       "     Property_Area  Loan_Status  \n",
       "0                0            1  \n",
       "1                1            0  \n",
       "2                0            1  \n",
       "3                0            1  \n",
       "4                0            1  \n",
       "..             ...          ...  \n",
       "584              1            1  \n",
       "585              1            1  \n",
       "586              0            1  \n",
       "587              0            1  \n",
       "588              2            0  \n",
       "\n",
       "[589 rows x 12 columns]"
      ]
     },
     "execution_count": 80,
     "metadata": {},
     "output_type": "execute_result"
    }
   ],
   "source": [
    "train"
   ]
  },
  {
   "cell_type": "code",
   "execution_count": 81,
   "id": "7e45dccc",
   "metadata": {},
   "outputs": [
    {
     "data": {
      "image/png": "[encoded data removed]",
      "text/plain": [
       "<Figure size 1584x1440 with 1 Axes>"
      ]
     },
     "metadata": {
      "needs_background": "light"
     },
     "output_type": "display_data"
    }
   ],
   "source": [
    "# Visualizing correlation of feature columns with label column.\n",
    "plt.figure(figsize = (22,20))\n",
    "train.corr()['Loan_Status'].sort_values(ascending = False).drop(['Loan_Status']).plot(kind='bar',color = 'c')\n",
    "plt.xlabel('Features',fontsize=15)\n",
    "plt.ylabel('Loan_Status',fontsize=15)\n",
    "plt.title('correlation',fontsize = 18)\n",
    "plt.show()"
   ]
  },
  {
   "cell_type": "code",
   "execution_count": 82,
   "id": "ade2c69b",
   "metadata": {},
   "outputs": [],
   "source": [
    "from sklearn.preprocessing import StandardScaler"
   ]
  },
  {
   "cell_type": "code",
   "execution_count": 83,
   "id": "01dd1817",
   "metadata": {},
   "outputs": [],
   "source": [
    "X = train.drop(columns = ['Loan_Status'])\n",
    "y = train['Loan_Status']\n"
   ]
  },
  {
   "cell_type": "code",
   "execution_count": 84,
   "id": "986f7169",
   "metadata": {},
   "outputs": [],
   "source": [
    "scaler= StandardScaler()\n",
    "# scaled_X = scaler.fit_transform(X)\n",
    "# scaled_X"
   ]
  },
  {
   "cell_type": "code",
   "execution_count": 85,
   "id": "d598ce97",
   "metadata": {},
   "outputs": [],
   "source": [
    "from statsmodels.stats.outliers_influence import variance_inflation_factor"
   ]
  },
  {
   "cell_type": "code",
   "execution_count": 86,
   "id": "48b21dcd",
   "metadata": {},
   "outputs": [],
   "source": [
    "vif = pd.DataFrame()"
   ]
  },
  {
   "cell_type": "code",
   "execution_count": 87,
   "id": "c2804be2",
   "metadata": {},
   "outputs": [],
   "source": [
    "vif[\"Features\"] = X.columns\n",
    "vif['vif'] = [variance_inflation_factor(X,i) for i in range(X.shape[1])]"
   ]
  },
  {
   "cell_type": "code",
   "execution_count": 88,
   "id": "4bbfd49b",
   "metadata": {
    "scrolled": true
   },
   "outputs": [
    {
     "data": {
      "text/html": [
       "<div>\n",
       "<style scoped>\n",
       "    .dataframe tbody tr th:only-of-type {\n",
       "        vertical-align: middle;\n",
       "    }\n",
       "\n",
       "    .dataframe tbody tr th {\n",
       "        vertical-align: top;\n",
       "    }\n",
       "\n",
       "    .dataframe thead th {\n",
       "        text-align: right;\n",
       "    }\n",
       "</style>\n",
       "<table border=\"1\" class=\"dataframe\">\n",
       "  <thead>\n",
       "    <tr style=\"text-align: right;\">\n",
       "      <th></th>\n",
       "      <th>Features</th>\n",
       "      <th>vif</th>\n",
       "    </tr>\n",
       "  </thead>\n",
       "  <tbody>\n",
       "    <tr>\n",
       "      <th>0</th>\n",
       "      <td>Gender</td>\n",
       "      <td>5.843339</td>\n",
       "    </tr>\n",
       "    <tr>\n",
       "      <th>1</th>\n",
       "      <td>Married</td>\n",
       "      <td>3.646110</td>\n",
       "    </tr>\n",
       "    <tr>\n",
       "      <th>2</th>\n",
       "      <td>Dependents</td>\n",
       "      <td>1.775889</td>\n",
       "    </tr>\n",
       "    <tr>\n",
       "      <th>3</th>\n",
       "      <td>Education</td>\n",
       "      <td>4.328001</td>\n",
       "    </tr>\n",
       "    <tr>\n",
       "      <th>4</th>\n",
       "      <td>Self_Employed</td>\n",
       "      <td>1.169960</td>\n",
       "    </tr>\n",
       "    <tr>\n",
       "      <th>5</th>\n",
       "      <td>ApplicantIncome</td>\n",
       "      <td>1.712130</td>\n",
       "    </tr>\n",
       "    <tr>\n",
       "      <th>6</th>\n",
       "      <td>CoapplicantIncome</td>\n",
       "      <td>1.364822</td>\n",
       "    </tr>\n",
       "    <tr>\n",
       "      <th>7</th>\n",
       "      <td>LoanAmount</td>\n",
       "      <td>1.535408</td>\n",
       "    </tr>\n",
       "    <tr>\n",
       "      <th>8</th>\n",
       "      <td>Loan_Amount_Term</td>\n",
       "      <td>10.418505</td>\n",
       "    </tr>\n",
       "    <tr>\n",
       "      <th>9</th>\n",
       "      <td>Credit_History</td>\n",
       "      <td>5.455795</td>\n",
       "    </tr>\n",
       "    <tr>\n",
       "      <th>10</th>\n",
       "      <td>Property_Area</td>\n",
       "      <td>2.552701</td>\n",
       "    </tr>\n",
       "  </tbody>\n",
       "</table>\n",
       "</div>"
      ],
      "text/plain": [
       "             Features        vif\n",
       "0              Gender   5.843339\n",
       "1             Married   3.646110\n",
       "2          Dependents   1.775889\n",
       "3           Education   4.328001\n",
       "4       Self_Employed   1.169960\n",
       "5     ApplicantIncome   1.712130\n",
       "6   CoapplicantIncome   1.364822\n",
       "7          LoanAmount   1.535408\n",
       "8    Loan_Amount_Term  10.418505\n",
       "9      Credit_History   5.455795\n",
       "10      Property_Area   2.552701"
      ]
     },
     "execution_count": 88,
     "metadata": {},
     "output_type": "execute_result"
    }
   ],
   "source": [
    "vif"
   ]
  },
  {
   "cell_type": "code",
   "execution_count": 89,
   "id": "46cac9c3",
   "metadata": {},
   "outputs": [],
   "source": [
    "# Principle Component Analysis\n",
    "from sklearn.decomposition import PCA"
   ]
  },
  {
   "cell_type": "code",
   "execution_count": 90,
   "id": "1e64ff79",
   "metadata": {},
   "outputs": [
    {
     "data": {
      "text/html": [
       "<div>\n",
       "<style scoped>\n",
       "    .dataframe tbody tr th:only-of-type {\n",
       "        vertical-align: middle;\n",
       "    }\n",
       "\n",
       "    .dataframe tbody tr th {\n",
       "        vertical-align: top;\n",
       "    }\n",
       "\n",
       "    .dataframe thead th {\n",
       "        text-align: right;\n",
       "    }\n",
       "</style>\n",
       "<table border=\"1\" class=\"dataframe\">\n",
       "  <thead>\n",
       "    <tr style=\"text-align: right;\">\n",
       "      <th></th>\n",
       "      <th>0</th>\n",
       "      <th>1</th>\n",
       "      <th>2</th>\n",
       "      <th>3</th>\n",
       "      <th>4</th>\n",
       "      <th>5</th>\n",
       "      <th>6</th>\n",
       "      <th>7</th>\n",
       "      <th>8</th>\n",
       "      <th>9</th>\n",
       "      <th>10</th>\n",
       "    </tr>\n",
       "  </thead>\n",
       "  <tbody>\n",
       "    <tr>\n",
       "      <th>0</th>\n",
       "      <td>-18.030947</td>\n",
       "      <td>0.827013</td>\n",
       "      <td>1.109988</td>\n",
       "      <td>-0.405299</td>\n",
       "      <td>1.104353</td>\n",
       "      <td>0.187414</td>\n",
       "      <td>0.272491</td>\n",
       "      <td>-0.195615</td>\n",
       "      <td>-0.118118</td>\n",
       "      <td>0.011680</td>\n",
       "      <td>-0.518410</td>\n",
       "    </tr>\n",
       "    <tr>\n",
       "      <th>1</th>\n",
       "      <td>-18.030014</td>\n",
       "      <td>-0.159506</td>\n",
       "      <td>-0.671497</td>\n",
       "      <td>0.043285</td>\n",
       "      <td>0.045613</td>\n",
       "      <td>-0.458789</td>\n",
       "      <td>-0.366320</td>\n",
       "      <td>-0.269045</td>\n",
       "      <td>-0.118536</td>\n",
       "      <td>-0.107952</td>\n",
       "      <td>-0.008396</td>\n",
       "    </tr>\n",
       "    <tr>\n",
       "      <th>2</th>\n",
       "      <td>-18.030250</td>\n",
       "      <td>-0.631469</td>\n",
       "      <td>1.690012</td>\n",
       "      <td>0.027872</td>\n",
       "      <td>1.145300</td>\n",
       "      <td>0.165265</td>\n",
       "      <td>-0.526150</td>\n",
       "      <td>-0.238764</td>\n",
       "      <td>0.036784</td>\n",
       "      <td>0.876103</td>\n",
       "      <td>0.283980</td>\n",
       "    </tr>\n",
       "    <tr>\n",
       "      <th>3</th>\n",
       "      <td>-18.029671</td>\n",
       "      <td>-0.924149</td>\n",
       "      <td>-0.387411</td>\n",
       "      <td>-0.922719</td>\n",
       "      <td>1.000814</td>\n",
       "      <td>0.020049</td>\n",
       "      <td>-0.509906</td>\n",
       "      <td>0.730871</td>\n",
       "      <td>-0.389764</td>\n",
       "      <td>-0.056865</td>\n",
       "      <td>0.181057</td>\n",
       "    </tr>\n",
       "    <tr>\n",
       "      <th>4</th>\n",
       "      <td>-18.030886</td>\n",
       "      <td>0.960990</td>\n",
       "      <td>1.005816</td>\n",
       "      <td>-0.443331</td>\n",
       "      <td>1.098504</td>\n",
       "      <td>0.272133</td>\n",
       "      <td>0.276584</td>\n",
       "      <td>-0.192525</td>\n",
       "      <td>-0.114128</td>\n",
       "      <td>0.006422</td>\n",
       "      <td>-0.518315</td>\n",
       "    </tr>\n",
       "    <tr>\n",
       "      <th>...</th>\n",
       "      <td>...</td>\n",
       "      <td>...</td>\n",
       "      <td>...</td>\n",
       "      <td>...</td>\n",
       "      <td>...</td>\n",
       "      <td>...</td>\n",
       "      <td>...</td>\n",
       "      <td>...</td>\n",
       "      <td>...</td>\n",
       "      <td>...</td>\n",
       "      <td>...</td>\n",
       "    </tr>\n",
       "    <tr>\n",
       "      <th>584</th>\n",
       "      <td>-18.032197</td>\n",
       "      <td>-0.578648</td>\n",
       "      <td>-0.352356</td>\n",
       "      <td>-1.191101</td>\n",
       "      <td>-0.064573</td>\n",
       "      <td>0.192627</td>\n",
       "      <td>0.788571</td>\n",
       "      <td>-0.272900</td>\n",
       "      <td>-0.126596</td>\n",
       "      <td>-0.216278</td>\n",
       "      <td>0.329345</td>\n",
       "    </tr>\n",
       "    <tr>\n",
       "      <th>585</th>\n",
       "      <td>161.972187</td>\n",
       "      <td>-0.085043</td>\n",
       "      <td>-1.826330</td>\n",
       "      <td>1.417768</td>\n",
       "      <td>-0.095552</td>\n",
       "      <td>-0.286029</td>\n",
       "      <td>0.175540</td>\n",
       "      <td>-0.413873</td>\n",
       "      <td>-0.111434</td>\n",
       "      <td>-0.201061</td>\n",
       "      <td>-0.081529</td>\n",
       "    </tr>\n",
       "    <tr>\n",
       "      <th>586</th>\n",
       "      <td>-18.029077</td>\n",
       "      <td>-1.217467</td>\n",
       "      <td>-0.541057</td>\n",
       "      <td>0.031484</td>\n",
       "      <td>1.052230</td>\n",
       "      <td>0.028414</td>\n",
       "      <td>-0.321638</td>\n",
       "      <td>-0.258693</td>\n",
       "      <td>-0.112924</td>\n",
       "      <td>-0.082698</td>\n",
       "      <td>0.042878</td>\n",
       "    </tr>\n",
       "    <tr>\n",
       "      <th>587</th>\n",
       "      <td>-18.028133</td>\n",
       "      <td>-1.083565</td>\n",
       "      <td>0.797651</td>\n",
       "      <td>1.741254</td>\n",
       "      <td>1.219505</td>\n",
       "      <td>0.491591</td>\n",
       "      <td>-0.120592</td>\n",
       "      <td>-0.292959</td>\n",
       "      <td>-0.110370</td>\n",
       "      <td>-0.095380</td>\n",
       "      <td>-0.060721</td>\n",
       "    </tr>\n",
       "    <tr>\n",
       "      <th>588</th>\n",
       "      <td>-18.033367</td>\n",
       "      <td>0.298889</td>\n",
       "      <td>1.570245</td>\n",
       "      <td>-0.192290</td>\n",
       "      <td>-0.916268</td>\n",
       "      <td>0.011042</td>\n",
       "      <td>0.814320</td>\n",
       "      <td>0.004445</td>\n",
       "      <td>0.944458</td>\n",
       "      <td>0.622932</td>\n",
       "      <td>0.468263</td>\n",
       "    </tr>\n",
       "  </tbody>\n",
       "</table>\n",
       "<p>589 rows × 11 columns</p>\n",
       "</div>"
      ],
      "text/plain": [
       "             0         1         2         3         4         5         6   \\\n",
       "0    -18.030947  0.827013  1.109988 -0.405299  1.104353  0.187414  0.272491   \n",
       "1    -18.030014 -0.159506 -0.671497  0.043285  0.045613 -0.458789 -0.366320   \n",
       "2    -18.030250 -0.631469  1.690012  0.027872  1.145300  0.165265 -0.526150   \n",
       "3    -18.029671 -0.924149 -0.387411 -0.922719  1.000814  0.020049 -0.509906   \n",
       "4    -18.030886  0.960990  1.005816 -0.443331  1.098504  0.272133  0.276584   \n",
       "..          ...       ...       ...       ...       ...       ...       ...   \n",
       "584  -18.032197 -0.578648 -0.352356 -1.191101 -0.064573  0.192627  0.788571   \n",
       "585  161.972187 -0.085043 -1.826330  1.417768 -0.095552 -0.286029  0.175540   \n",
       "586  -18.029077 -1.217467 -0.541057  0.031484  1.052230  0.028414 -0.321638   \n",
       "587  -18.028133 -1.083565  0.797651  1.741254  1.219505  0.491591 -0.120592   \n",
       "588  -18.033367  0.298889  1.570245 -0.192290 -0.916268  0.011042  0.814320   \n",
       "\n",
       "           7         8         9         10  \n",
       "0   -0.195615 -0.118118  0.011680 -0.518410  \n",
       "1   -0.269045 -0.118536 -0.107952 -0.008396  \n",
       "2   -0.238764  0.036784  0.876103  0.283980  \n",
       "3    0.730871 -0.389764 -0.056865  0.181057  \n",
       "4   -0.192525 -0.114128  0.006422 -0.518315  \n",
       "..        ...       ...       ...       ...  \n",
       "584 -0.272900 -0.126596 -0.216278  0.329345  \n",
       "585 -0.413873 -0.111434 -0.201061 -0.081529  \n",
       "586 -0.258693 -0.112924 -0.082698  0.042878  \n",
       "587 -0.292959 -0.110370 -0.095380 -0.060721  \n",
       "588  0.004445  0.944458  0.622932  0.468263  \n",
       "\n",
       "[589 rows x 11 columns]"
      ]
     },
     "execution_count": 90,
     "metadata": {},
     "output_type": "execute_result"
    }
   ],
   "source": [
    "pca = PCA(n_components=11)\n",
    "new_comp = pca.fit_transform(X)\n",
    "principle_x=pd.DataFrame(new_comp,columns=np.arange(11))\n",
    "principle_x"
   ]
  },
  {
   "cell_type": "code",
   "execution_count": 91,
   "id": "555c1c05",
   "metadata": {},
   "outputs": [],
   "source": [
    "X = train.drop(columns = ['Loan_Status'])\n",
    "y = train['Loan_Status']\n"
   ]
  },
  {
   "cell_type": "code",
   "execution_count": null,
   "id": "4c8bbad3",
   "metadata": {},
   "outputs": [],
   "source": []
  },
  {
   "cell_type": "code",
   "execution_count": 92,
   "id": "88db336b",
   "metadata": {},
   "outputs": [],
   "source": [
    "scaled_xtrain = scaler.fit_transform(principle_x)"
   ]
  },
  {
   "cell_type": "code",
   "execution_count": 93,
   "id": "7f54e170",
   "metadata": {},
   "outputs": [
    {
     "data": {
      "text/plain": [
       "array([[-0.27617232,  0.67412518,  1.02945546, ..., -0.32527066,\n",
       "         0.03411074, -1.60497457],\n",
       "       [-0.27615802, -0.1300185 , -0.62277802, ..., -0.32642389,\n",
       "        -0.31525372, -0.02599335],\n",
       "       [-0.27616165, -0.5147312 ,  1.56739643, ...,  0.10129438,\n",
       "         2.55850684,  0.87918995],\n",
       "       ...,\n",
       "       [-0.27614368, -0.99239743, -0.50180198, ..., -0.3109677 ,\n",
       "        -0.24150594,  0.13274756],\n",
       "       [-0.27612921, -0.88324927,  0.73977905, ..., -0.3039348 ,\n",
       "        -0.27853927, -0.18798886],\n",
       "       [-0.27620939,  0.24363398,  1.45631953, ...,  2.60083758,\n",
       "         1.81916407,  1.44972211]])"
      ]
     },
     "execution_count": 93,
     "metadata": {},
     "output_type": "execute_result"
    }
   ],
   "source": [
    "scaled_xtrain"
   ]
  },
  {
   "cell_type": "code",
   "execution_count": 94,
   "id": "095742d8",
   "metadata": {},
   "outputs": [
    {
     "data": {
      "text/plain": [
       "array([[ 0.51104636,  0.75835829, -0.78520333, ...,  0.27131128,\n",
       "         0.44648226, -1.12247451],\n",
       "       [ 0.51104636,  0.75835829,  0.1413871 , ...,  0.27131128,\n",
       "         0.44648226, -1.12247451],\n",
       "       [ 0.51104636,  0.75835829,  1.06797753, ...,  0.27131128,\n",
       "         0.44648226, -1.12247451],\n",
       "       ...,\n",
       "       [ 0.51104636, -1.31863792, -0.78520333, ...,  0.27131128,\n",
       "         0.44648226,  1.27955549],\n",
       "       [ 0.51104636,  0.75835829, -0.78520333, ...,  0.27131128,\n",
       "         0.44648226,  0.07854049],\n",
       "       [ 0.51104636, -1.31863792, -0.78520333, ..., -2.49285026,\n",
       "         0.44648226,  0.07854049]])"
      ]
     },
     "execution_count": 94,
     "metadata": {},
     "output_type": "execute_result"
    }
   ],
   "source": [
    "#scaling test dataset\n",
    "scaler= StandardScaler()\n",
    "scaled_test = scaler.fit_transform(test)\n",
    "scaled_test"
   ]
  },
  {
   "cell_type": "markdown",
   "id": "08ea27ac",
   "metadata": {},
   "source": [
    "This is a Classification problem since Target/ Lable column ('Loan_Status') has Categorical type of Data.\n"
   ]
  },
  {
   "cell_type": "markdown",
   "id": "e8fd4d73",
   "metadata": {},
   "source": [
    "### Classification Model Building"
   ]
  },
  {
   "cell_type": "code",
   "execution_count": 95,
   "id": "84fea4d1",
   "metadata": {},
   "outputs": [],
   "source": [
    "from sklearn.model_selection import train_test_split\n",
    "from sklearn.metrics import accuracy_score"
   ]
  },
  {
   "cell_type": "code",
   "execution_count": 96,
   "id": "4d83f117",
   "metadata": {},
   "outputs": [],
   "source": [
    "#finding best random state"
   ]
  },
  {
   "cell_type": "code",
   "execution_count": 97,
   "id": "5829ee88",
   "metadata": {},
   "outputs": [
    {
     "name": "stdout",
     "output_type": "stream",
     "text": [
      "Best Accuracy is: 0.8688524590163934 on random_state: 26\n"
     ]
    }
   ],
   "source": [
    "from sklearn.linear_model import LogisticRegression\n",
    "maxAcc = 0\n",
    "maxRS=0\n",
    "for i in range(1,100):\n",
    "    x_train,x_test,y_train,y_test = train_test_split(scaled_xtrain,y,test_size = .31, random_state = i,stratify = y)\n",
    "    modRF =  LogisticRegression()\n",
    "    modRF.fit(x_train,y_train)\n",
    "    pred = modRF.predict(x_test)\n",
    "    acc  = accuracy_score(y_test,pred)\n",
    "    if acc>maxAcc:\n",
    "        maxAcc=acc\n",
    "        maxRS=i\n",
    "print(f\"Best Accuracy is: {maxAcc} on random_state: {maxRS}\")"
   ]
  },
  {
   "cell_type": "code",
   "execution_count": 98,
   "id": "2953d97b",
   "metadata": {},
   "outputs": [],
   "source": [
    "x_train,x_test,y_train,y_test = train_test_split(scaled_xtrain,y,test_size = .31, stratify = y,random_state = 26)"
   ]
  },
  {
   "cell_type": "code",
   "execution_count": 99,
   "id": "28da7bad",
   "metadata": {},
   "outputs": [],
   "source": [
    "from sklearn.ensemble import RandomForestClassifier\n",
    "from sklearn.model_selection import train_test_split\n",
    "from sklearn.metrics import accuracy_score, confusion_matrix, roc_curve, roc_auc_score\n",
    "from sklearn.metrics import classification_report\n",
    "from sklearn.metrics import plot_roc_curve "
   ]
  },
  {
   "cell_type": "code",
   "execution_count": 100,
   "id": "b73dbef6",
   "metadata": {},
   "outputs": [],
   "source": [
    "from sklearn.linear_model import LogisticRegression\n",
    "from xgboost import XGBClassifier\n",
    "from sklearn.svm import SVC\n",
    "from sklearn.neighbors import KNeighborsClassifier"
   ]
  },
  {
   "cell_type": "code",
   "execution_count": 101,
   "id": "6fe612fb",
   "metadata": {},
   "outputs": [
    {
     "data": {
      "text/plain": [
       "(406, 11)"
      ]
     },
     "execution_count": 101,
     "metadata": {},
     "output_type": "execute_result"
    }
   ],
   "source": [
    "x_train.shape"
   ]
  },
  {
   "cell_type": "code",
   "execution_count": 102,
   "id": "96839a92",
   "metadata": {},
   "outputs": [
    {
     "data": {
      "text/plain": [
       "(183, 11)"
      ]
     },
     "execution_count": 102,
     "metadata": {},
     "output_type": "execute_result"
    }
   ],
   "source": [
    "x_test.shape"
   ]
  },
  {
   "cell_type": "code",
   "execution_count": 103,
   "id": "2a1065f3",
   "metadata": {},
   "outputs": [
    {
     "data": {
      "text/plain": [
       "(406,)"
      ]
     },
     "execution_count": 103,
     "metadata": {},
     "output_type": "execute_result"
    }
   ],
   "source": [
    "y_train.shape"
   ]
  },
  {
   "cell_type": "markdown",
   "id": "d713e64d",
   "metadata": {},
   "source": [
    "### Training the models"
   ]
  },
  {
   "cell_type": "code",
   "execution_count": 104,
   "id": "35ee7ce4",
   "metadata": {},
   "outputs": [
    {
     "data": {
      "text/plain": [
       "(183,)"
      ]
     },
     "execution_count": 104,
     "metadata": {},
     "output_type": "execute_result"
    }
   ],
   "source": [
    "y_test.shape"
   ]
  },
  {
   "cell_type": "code",
   "execution_count": 105,
   "id": "451524a0",
   "metadata": {},
   "outputs": [
    {
     "data": {
      "text/plain": [
       "RandomForestClassifier()"
      ]
     },
     "execution_count": 105,
     "metadata": {},
     "output_type": "execute_result"
    }
   ],
   "source": [
    "RFC = RandomForestClassifier()\n",
    "RFC.fit(x_train,y_train)"
   ]
  },
  {
   "cell_type": "code",
   "execution_count": 106,
   "id": "ec7f2789",
   "metadata": {},
   "outputs": [
    {
     "data": {
      "text/plain": [
       "LogisticRegression()"
      ]
     },
     "execution_count": 106,
     "metadata": {},
     "output_type": "execute_result"
    }
   ],
   "source": [
    "LOGR= LogisticRegression()\n",
    "LOGR.fit(x_train,y_train)"
   ]
  },
  {
   "cell_type": "code",
   "execution_count": 107,
   "id": "f0c2ce72",
   "metadata": {},
   "outputs": [
    {
     "data": {
      "text/plain": [
       "SVC()"
      ]
     },
     "execution_count": 107,
     "metadata": {},
     "output_type": "execute_result"
    }
   ],
   "source": [
    "SV =  SVC()\n",
    "SV.fit(x_train,y_train)"
   ]
  },
  {
   "cell_type": "code",
   "execution_count": 108,
   "id": "cd553fd4",
   "metadata": {},
   "outputs": [
    {
     "data": {
      "text/plain": [
       "KNeighborsClassifier()"
      ]
     },
     "execution_count": 108,
     "metadata": {},
     "output_type": "execute_result"
    }
   ],
   "source": [
    "KNN = KNeighborsClassifier()\n",
    "KNN.fit(x_train,y_train)"
   ]
  },
  {
   "cell_type": "code",
   "execution_count": 109,
   "id": "59ada256",
   "metadata": {},
   "outputs": [
    {
     "name": "stdout",
     "output_type": "stream",
     "text": [
      "[18:39:23] WARNING: C:/Users/Administrator/workspace/xgboost-win64_release_1.4.0/src/learner.cc:1095: Starting in XGBoost 1.3.0, the default evaluation metric used with the objective 'binary:logistic' was changed from 'error' to 'logloss'. Explicitly set eval_metric if you'd like to restore the old behavior.\n"
     ]
    },
    {
     "data": {
      "text/plain": [
       "XGBClassifier(base_score=0.5, booster='gbtree', colsample_bylevel=1,\n",
       "              colsample_bynode=1, colsample_bytree=1, gamma=0, gpu_id=-1,\n",
       "              importance_type='gain', interaction_constraints='',\n",
       "              learning_rate=0.300000012, max_delta_step=0, max_depth=6,\n",
       "              min_child_weight=1, missing=nan, monotone_constraints='()',\n",
       "              n_estimators=100, n_jobs=4, num_parallel_tree=1, random_state=0,\n",
       "              reg_alpha=0, reg_lambda=1, scale_pos_weight=1, subsample=1,\n",
       "              tree_method='exact', validate_parameters=1, verbosity=None)"
      ]
     },
     "execution_count": 109,
     "metadata": {},
     "output_type": "execute_result"
    }
   ],
   "source": [
    "XGBC= XGBClassifier()\n",
    "XGBC.fit(x_train,y_train)"
   ]
  },
  {
   "cell_type": "markdown",
   "id": "9a11e2f4",
   "metadata": {},
   "source": [
    "Logistic Regression Model Accuracy"
   ]
  },
  {
   "cell_type": "code",
   "execution_count": 110,
   "id": "7442071e",
   "metadata": {},
   "outputs": [],
   "source": [
    "LOGRpred = LOGR.predict(x_test)\n",
    "accu = classification_report(y_test,LOGRpred)"
   ]
  },
  {
   "cell_type": "code",
   "execution_count": 111,
   "id": "e82a9365",
   "metadata": {},
   "outputs": [
    {
     "data": {
      "text/plain": [
       "array([[ 33,  23],\n",
       "       [  1, 126]], dtype=int64)"
      ]
     },
     "execution_count": 111,
     "metadata": {},
     "output_type": "execute_result"
    }
   ],
   "source": [
    "conf_matrx = confusion_matrix(y_test,LOGRpred)\n",
    "conf_matrx"
   ]
  },
  {
   "cell_type": "code",
   "execution_count": 112,
   "id": "1556be74",
   "metadata": {},
   "outputs": [
    {
     "name": "stdout",
     "output_type": "stream",
     "text": [
      "              precision    recall  f1-score   support\n",
      "\n",
      "           0       0.97      0.59      0.73        56\n",
      "           1       0.85      0.99      0.91       127\n",
      "\n",
      "    accuracy                           0.87       183\n",
      "   macro avg       0.91      0.79      0.82       183\n",
      "weighted avg       0.88      0.87      0.86       183\n",
      "\n"
     ]
    }
   ],
   "source": [
    "print(accu)"
   ]
  },
  {
   "cell_type": "markdown",
   "id": "28a4fffb",
   "metadata": {},
   "source": [
    "Random Forest Classifier Model Accuracy"
   ]
  },
  {
   "cell_type": "code",
   "execution_count": 113,
   "id": "7173d1ee",
   "metadata": {},
   "outputs": [],
   "source": [
    "RFCpred = RFC.predict(x_test)\n",
    "accu = classification_report(y_test,RFCpred)"
   ]
  },
  {
   "cell_type": "code",
   "execution_count": 114,
   "id": "74792084",
   "metadata": {},
   "outputs": [
    {
     "data": {
      "text/plain": [
       "array([[ 31,  25],\n",
       "       [  8, 119]], dtype=int64)"
      ]
     },
     "execution_count": 114,
     "metadata": {},
     "output_type": "execute_result"
    }
   ],
   "source": [
    "conf_matrx = confusion_matrix(y_test,RFCpred)\n",
    "conf_matrx"
   ]
  },
  {
   "cell_type": "code",
   "execution_count": 115,
   "id": "778783da",
   "metadata": {},
   "outputs": [
    {
     "name": "stdout",
     "output_type": "stream",
     "text": [
      "              precision    recall  f1-score   support\n",
      "\n",
      "           0       0.79      0.55      0.65        56\n",
      "           1       0.83      0.94      0.88       127\n",
      "\n",
      "    accuracy                           0.82       183\n",
      "   macro avg       0.81      0.75      0.77       183\n",
      "weighted avg       0.82      0.82      0.81       183\n",
      "\n"
     ]
    }
   ],
   "source": [
    "print(accu)"
   ]
  },
  {
   "cell_type": "markdown",
   "id": "fbd3fa6f",
   "metadata": {},
   "source": [
    "XGB Classifier Model Accuracy"
   ]
  },
  {
   "cell_type": "code",
   "execution_count": 116,
   "id": "a4e25ee7",
   "metadata": {},
   "outputs": [],
   "source": [
    "XGBCpred = XGBC.predict(x_test)\n",
    "accu = classification_report(y_test,XGBCpred)"
   ]
  },
  {
   "cell_type": "code",
   "execution_count": 117,
   "id": "7bc63cbe",
   "metadata": {},
   "outputs": [
    {
     "data": {
      "text/plain": [
       "array([[ 28,  28],\n",
       "       [ 12, 115]], dtype=int64)"
      ]
     },
     "execution_count": 117,
     "metadata": {},
     "output_type": "execute_result"
    }
   ],
   "source": [
    "conf_matrx = confusion_matrix(y_test,XGBCpred)\n",
    "conf_matrx"
   ]
  },
  {
   "cell_type": "code",
   "execution_count": 118,
   "id": "67a4d39f",
   "metadata": {},
   "outputs": [
    {
     "name": "stdout",
     "output_type": "stream",
     "text": [
      "              precision    recall  f1-score   support\n",
      "\n",
      "           0       0.70      0.50      0.58        56\n",
      "           1       0.80      0.91      0.85       127\n",
      "\n",
      "    accuracy                           0.78       183\n",
      "   macro avg       0.75      0.70      0.72       183\n",
      "weighted avg       0.77      0.78      0.77       183\n",
      "\n"
     ]
    }
   ],
   "source": [
    "print(accu)"
   ]
  },
  {
   "cell_type": "markdown",
   "id": "8553c55e",
   "metadata": {},
   "source": [
    "SV Classifier Model Accuracy"
   ]
  },
  {
   "cell_type": "code",
   "execution_count": 119,
   "id": "ff90850e",
   "metadata": {},
   "outputs": [
    {
     "data": {
      "text/plain": [
       "array([[ 31,  25],\n",
       "       [  1, 126]], dtype=int64)"
      ]
     },
     "execution_count": 119,
     "metadata": {},
     "output_type": "execute_result"
    }
   ],
   "source": [
    "SVpred = SV.predict(x_test)\n",
    "accu = classification_report(y_test,SVpred)\n",
    "conf_matrx = confusion_matrix(y_test,SVpred)\n",
    "conf_matrx"
   ]
  },
  {
   "cell_type": "code",
   "execution_count": 120,
   "id": "4ada276c",
   "metadata": {},
   "outputs": [
    {
     "name": "stdout",
     "output_type": "stream",
     "text": [
      "              precision    recall  f1-score   support\n",
      "\n",
      "           0       0.97      0.55      0.70        56\n",
      "           1       0.83      0.99      0.91       127\n",
      "\n",
      "    accuracy                           0.86       183\n",
      "   macro avg       0.90      0.77      0.81       183\n",
      "weighted avg       0.88      0.86      0.84       183\n",
      "\n"
     ]
    }
   ],
   "source": [
    "print(accu)"
   ]
  },
  {
   "cell_type": "markdown",
   "id": "2cea297f",
   "metadata": {},
   "source": [
    "K Nearest Neighbours Classifier Model Accuracy"
   ]
  },
  {
   "cell_type": "code",
   "execution_count": 121,
   "id": "88611a6e",
   "metadata": {},
   "outputs": [],
   "source": [
    "KNNpred = KNN.predict(x_test)\n",
    "accu = classification_report(y_test,KNNpred)"
   ]
  },
  {
   "cell_type": "code",
   "execution_count": 122,
   "id": "f39da4e5",
   "metadata": {},
   "outputs": [
    {
     "data": {
      "text/plain": [
       "array([[ 32,  24],\n",
       "       [  8, 119]], dtype=int64)"
      ]
     },
     "execution_count": 122,
     "metadata": {},
     "output_type": "execute_result"
    }
   ],
   "source": [
    "conf_matrx = confusion_matrix(y_test,KNNpred)\n",
    "conf_matrx"
   ]
  },
  {
   "cell_type": "code",
   "execution_count": 123,
   "id": "4c3b35fa",
   "metadata": {},
   "outputs": [
    {
     "name": "stdout",
     "output_type": "stream",
     "text": [
      "              precision    recall  f1-score   support\n",
      "\n",
      "           0       0.80      0.57      0.67        56\n",
      "           1       0.83      0.94      0.88       127\n",
      "\n",
      "    accuracy                           0.83       183\n",
      "   macro avg       0.82      0.75      0.77       183\n",
      "weighted avg       0.82      0.83      0.82       183\n",
      "\n"
     ]
    }
   ],
   "source": [
    "print(accu)"
   ]
  },
  {
   "cell_type": "markdown",
   "id": "5fe0769e",
   "metadata": {},
   "source": [
    "### Model Cross Validation"
   ]
  },
  {
   "cell_type": "code",
   "execution_count": 124,
   "id": "a56f7db1",
   "metadata": {},
   "outputs": [],
   "source": [
    "from sklearn.model_selection import cross_val_score as cvs"
   ]
  },
  {
   "cell_type": "code",
   "execution_count": 125,
   "id": "537ebb56",
   "metadata": {},
   "outputs": [],
   "source": [
    "# Logistic Regression"
   ]
  },
  {
   "cell_type": "code",
   "execution_count": 126,
   "id": "c717ad3f",
   "metadata": {},
   "outputs": [
    {
     "name": "stdout",
     "output_type": "stream",
     "text": [
      "0.8183688251484862\n"
     ]
    }
   ],
   "source": [
    "print(cvs(LOGR,scaled_xtrain,y,cv=5).mean()) "
   ]
  },
  {
   "cell_type": "code",
   "execution_count": 127,
   "id": "9d92b9f2",
   "metadata": {},
   "outputs": [
    {
     "name": "stdout",
     "output_type": "stream",
     "text": [
      "0.7759524844270608\n"
     ]
    }
   ],
   "source": [
    "# Random Forest Classifier\n",
    "print(cvs(RFC,scaled_xtrain,y,cv=5).mean())"
   ]
  },
  {
   "cell_type": "code",
   "execution_count": 128,
   "id": "51ea2be9",
   "metadata": {},
   "outputs": [
    {
     "name": "stdout",
     "output_type": "stream",
     "text": [
      "[18:39:27] WARNING: C:/Users/Administrator/workspace/xgboost-win64_release_1.4.0/src/learner.cc:1095: Starting in XGBoost 1.3.0, the default evaluation metric used with the objective 'binary:logistic' was changed from 'error' to 'logloss'. Explicitly set eval_metric if you'd like to restore the old behavior.\n",
      "[18:39:27] WARNING: C:/Users/Administrator/workspace/xgboost-win64_release_1.4.0/src/learner.cc:1095: Starting in XGBoost 1.3.0, the default evaluation metric used with the objective 'binary:logistic' was changed from 'error' to 'logloss'. Explicitly set eval_metric if you'd like to restore the old behavior.\n",
      "[18:39:27] WARNING: C:/Users/Administrator/workspace/xgboost-win64_release_1.4.0/src/learner.cc:1095: Starting in XGBoost 1.3.0, the default evaluation metric used with the objective 'binary:logistic' was changed from 'error' to 'logloss'. Explicitly set eval_metric if you'd like to restore the old behavior.\n",
      "[18:39:28] WARNING: C:/Users/Administrator/workspace/xgboost-win64_release_1.4.0/src/learner.cc:1095: Starting in XGBoost 1.3.0, the default evaluation metric used with the objective 'binary:logistic' was changed from 'error' to 'logloss'. Explicitly set eval_metric if you'd like to restore the old behavior.\n",
      "[18:39:28] WARNING: C:/Users/Administrator/workspace/xgboost-win64_release_1.4.0/src/learner.cc:1095: Starting in XGBoost 1.3.0, the default evaluation metric used with the objective 'binary:logistic' was changed from 'error' to 'logloss'. Explicitly set eval_metric if you'd like to restore the old behavior.\n",
      "0.762378675937998\n"
     ]
    }
   ],
   "source": [
    "# XGB Classifier\n",
    "print(cvs(XGBC,scaled_xtrain,y,cv=5).mean())"
   ]
  },
  {
   "cell_type": "code",
   "execution_count": 129,
   "id": "68c43fcb",
   "metadata": {},
   "outputs": [
    {
     "name": "stdout",
     "output_type": "stream",
     "text": [
      "0.8149789946400116\n"
     ]
    }
   ],
   "source": [
    "# SV Classifier\n",
    "print(cvs(SV,scaled_xtrain,y,cv=5).mean())"
   ]
  },
  {
   "cell_type": "code",
   "execution_count": 130,
   "id": "876a5df9",
   "metadata": {},
   "outputs": [
    {
     "name": "stdout",
     "output_type": "stream",
     "text": [
      "0.782703172533681\n"
     ]
    }
   ],
   "source": [
    "# K Nearest Neighbours Classifier\n",
    "print(cvs(KNN,scaled_xtrain,y,cv=5).mean())"
   ]
  },
  {
   "cell_type": "markdown",
   "id": "8aeb6462",
   "metadata": {},
   "source": [
    "Based on comparing Accuracy Score results, with Cross Validation results, it is determined that Logistic Regression is the best model."
   ]
  },
  {
   "cell_type": "markdown",
   "id": "b1420f2b",
   "metadata": {},
   "source": [
    "### ROC AUC Scores"
   ]
  },
  {
   "cell_type": "code",
   "execution_count": 131,
   "id": "569f869a",
   "metadata": {},
   "outputs": [
    {
     "data": {
      "text/plain": [
       "0.7907058492688414"
      ]
     },
     "execution_count": 131,
     "metadata": {},
     "output_type": "execute_result"
    }
   ],
   "source": [
    "# Logistic Regression\n",
    "roc_auc_score(y_test,LOGRpred)"
   ]
  },
  {
   "cell_type": "code",
   "execution_count": 132,
   "id": "cbf509ba",
   "metadata": {},
   "outputs": [
    {
     "data": {
      "text/plain": [
       "0.7728487064116987"
      ]
     },
     "execution_count": 132,
     "metadata": {},
     "output_type": "execute_result"
    }
   ],
   "source": [
    "# SV Classifier\n",
    "roc_auc_score(y_test,SVpred)"
   ]
  },
  {
   "cell_type": "code",
   "execution_count": 133,
   "id": "d375fad9",
   "metadata": {},
   "outputs": [
    {
     "data": {
      "text/plain": [
       "0.7452896512935885"
      ]
     },
     "execution_count": 133,
     "metadata": {},
     "output_type": "execute_result"
    }
   ],
   "source": [
    "# Random Forest Classifier\n",
    "roc_auc_score(y_test,RFCpred)"
   ]
  },
  {
   "cell_type": "code",
   "execution_count": 134,
   "id": "ddbf4e85",
   "metadata": {},
   "outputs": [
    {
     "data": {
      "text/plain": [
       "0.702755905511811"
      ]
     },
     "execution_count": 134,
     "metadata": {},
     "output_type": "execute_result"
    }
   ],
   "source": [
    "# XGB Classifier\n",
    "roc_auc_score(y_test,XGBCpred)"
   ]
  },
  {
   "cell_type": "code",
   "execution_count": 135,
   "id": "697083b9",
   "metadata": {},
   "outputs": [
    {
     "data": {
      "text/plain": [
       "0.7542182227221597"
      ]
     },
     "execution_count": 135,
     "metadata": {},
     "output_type": "execute_result"
    }
   ],
   "source": [
    "# K Nearest Neighbours Classifier\n",
    "roc_auc_score(y_test,KNNpred)"
   ]
  },
  {
   "cell_type": "markdown",
   "id": "d538c7ee",
   "metadata": {},
   "source": [
    "### AUC ROC CURVE"
   ]
  },
  {
   "cell_type": "code",
   "execution_count": 136,
   "id": "b2e9707a",
   "metadata": {},
   "outputs": [
    {
     "data": {
      "image/png": "[encoded data removed]",
      "text/plain": [
       "<Figure size 432x288 with 1 Axes>"
      ]
     },
     "metadata": {
      "needs_background": "light"
     },
     "output_type": "display_data"
    }
   ],
   "source": [
    "disp = plot_roc_curve(RFC,x_test,y_test)\n",
    "mod = [LOGR,XGBC,SV,KNN]\n",
    "for i in mod:\n",
    "    plot_roc_curve(i,x_test,y_test, ax=disp.ax_)\n",
    "plt.legend(prop={'size':10}, loc = 'lower right')\n",
    "plt.show()\n"
   ]
  },
  {
   "cell_type": "markdown",
   "id": "e0ac3a69",
   "metadata": {},
   "source": [
    "Based on the above graph and roc_auc_scores, Logistic Regression is the best model for the dataset, with AUC = 0.79 and roc_auc_score = 0.74"
   ]
  },
  {
   "cell_type": "markdown",
   "id": "45354139",
   "metadata": {},
   "source": [
    "### Hyper Parameter Tuning"
   ]
  },
  {
   "cell_type": "code",
   "execution_count": 137,
   "id": "bf101300",
   "metadata": {},
   "outputs": [],
   "source": [
    "from sklearn.model_selection import GridSearchCV"
   ]
  },
  {
   "cell_type": "code",
   "execution_count": 138,
   "id": "1683b7e9",
   "metadata": {},
   "outputs": [],
   "source": [
    "parameter = {'C':[0.001,0.01,0.1,0,1,1.1],'penalty':['l2', 'elasticnet', 'none'],'dual': [True,False],'fit_intercept':[True,False],'random_state':[1,2,3,5,10,20,45],'solver':['liblinear'],'max_iter':[100,200,300,400,500],'multi_class':['auto', 'ovr', 'multinomial']}"
   ]
  },
  {
   "cell_type": "code",
   "execution_count": 139,
   "id": "2ea9b5ad",
   "metadata": {},
   "outputs": [],
   "source": [
    "GridCV = GridSearchCV(LogisticRegression(),parameter,cv=5,n_jobs = -1,verbose=2)"
   ]
  },
  {
   "cell_type": "code",
   "execution_count": 140,
   "id": "0bcf5267",
   "metadata": {},
   "outputs": [
    {
     "name": "stdout",
     "output_type": "stream",
     "text": [
      "Fitting 5 folds for each of 7560 candidates, totalling 37800 fits\n"
     ]
    },
    {
     "data": {
      "text/plain": [
       "GridSearchCV(cv=5, estimator=LogisticRegression(), n_jobs=-1,\n",
       "             param_grid={'C': [0.001, 0.01, 0.1, 0, 1, 1.1],\n",
       "                         'dual': [True, False], 'fit_intercept': [True, False],\n",
       "                         'max_iter': [100, 200, 300, 400, 500],\n",
       "                         'multi_class': ['auto', 'ovr', 'multinomial'],\n",
       "                         'penalty': ['l2', 'elasticnet', 'none'],\n",
       "                         'random_state': [1, 2, 3, 5, 10, 20, 45],\n",
       "                         'solver': ['liblinear']},\n",
       "             verbose=2)"
      ]
     },
     "execution_count": 140,
     "metadata": {},
     "output_type": "execute_result"
    }
   ],
   "source": [
    "GridCV.fit(x_train,y_train)"
   ]
  },
  {
   "cell_type": "code",
   "execution_count": 141,
   "id": "00cb3d61",
   "metadata": {},
   "outputs": [
    {
     "data": {
      "text/plain": [
       "{'C': 0.001,\n",
       " 'dual': True,\n",
       " 'fit_intercept': True,\n",
       " 'max_iter': 100,\n",
       " 'multi_class': 'auto',\n",
       " 'penalty': 'l2',\n",
       " 'random_state': 1,\n",
       " 'solver': 'liblinear'}"
      ]
     },
     "execution_count": 141,
     "metadata": {},
     "output_type": "execute_result"
    }
   ],
   "source": [
    "GridCV.best_params_"
   ]
  },
  {
   "cell_type": "code",
   "execution_count": 142,
   "id": "2a7593e1",
   "metadata": {},
   "outputs": [
    {
     "name": "stdout",
     "output_type": "stream",
     "text": [
      "86.33879781420765\n"
     ]
    }
   ],
   "source": [
    "Best_mod1 = LogisticRegression(C = 0.001,dual = True,fit_intercept = True,max_iter = 100,multi_class = 'auto', penalty = 'l2',random_state= 1,solver = 'liblinear')\n",
    "Best_mod1.fit(x_train,y_train)\n",
    "lrpred = Best_mod1.predict(x_test)\n",
    "acc = accuracy_score(y_test,lrpred)\n",
    "print(acc*100)"
   ]
  },
  {
   "cell_type": "markdown",
   "id": "2550e266",
   "metadata": {},
   "source": [
    "Logistic Regression has an accuracy score of 86.33%"
   ]
  },
  {
   "cell_type": "code",
   "execution_count": 143,
   "id": "73e0e83e",
   "metadata": {},
   "outputs": [
    {
     "data": {
      "text/plain": [
       "array([[ 32,  24],\n",
       "       [  1, 126]], dtype=int64)"
      ]
     },
     "execution_count": 143,
     "metadata": {},
     "output_type": "execute_result"
    }
   ],
   "source": [
    "conf_matrx = confusion_matrix(y_test,lrpred)\n",
    "conf_matrx"
   ]
  },
  {
   "cell_type": "markdown",
   "id": "2a798f76",
   "metadata": {},
   "source": [
    "### Saving The Model"
   ]
  },
  {
   "cell_type": "code",
   "execution_count": 144,
   "id": "4b5a0d50",
   "metadata": {},
   "outputs": [
    {
     "data": {
      "text/plain": [
       "['BestModelLoan.pkl']"
      ]
     },
     "execution_count": 144,
     "metadata": {},
     "output_type": "execute_result"
    }
   ],
   "source": [
    "import joblib\n",
    "joblib.dump(Best_mod1,\"BestModelLoan.pkl\")"
   ]
  },
  {
   "cell_type": "markdown",
   "id": "78d6e7d3",
   "metadata": {},
   "source": [
    "### Loading The Model"
   ]
  },
  {
   "cell_type": "code",
   "execution_count": 145,
   "id": "267d564b",
   "metadata": {},
   "outputs": [],
   "source": [
    "mod=joblib.load(\"BestModelLoan.pkl\")"
   ]
  },
  {
   "cell_type": "code",
   "execution_count": 146,
   "id": "2dbdf4f6",
   "metadata": {},
   "outputs": [
    {
     "name": "stdout",
     "output_type": "stream",
     "text": [
      "[1 1 0 0 0 1 0 1 0 1 1 0 1 1 0 1 1 1 0 1 1 1 0 1 1 1 1 1 1 1 0 1 1 1 1 1 1\n",
      " 0 1 1 1 0 1 1 1 1 1 1 1 1 1 1 0 1 1 1 1 1 1 1 1 1 1 1 1 1 1 0 1 1 0 0 1 1\n",
      " 1 0 1 1 1 1 1 1 1 1 1 0 1 1 1 0 0 1 1 1 0 1 0 1 1 1 1 1 1 1 1 1 1 0 1 1 1\n",
      " 1 1 1 1 1 1 0 1 1 1 1 1 1 1 1 1 1 1 1 1 0 0 1 1 1 1 1 1 0 1 1 1 1 1 0 1 1\n",
      " 0 1 0 1 1 1 1 1 1 1 1 0 1 1 1 1 1 1 1 1 1 1 1 1 1 1 1 0 1 1 1 1 0 1 1]\n"
     ]
    }
   ],
   "source": [
    "print(mod.predict(x_test))"
   ]
  },
  {
   "cell_type": "code",
   "execution_count": 147,
   "id": "3fc1d6af",
   "metadata": {
    "scrolled": true
   },
   "outputs": [
    {
     "data": {
      "text/html": [
       "<div>\n",
       "<style scoped>\n",
       "    .dataframe tbody tr th:only-of-type {\n",
       "        vertical-align: middle;\n",
       "    }\n",
       "\n",
       "    .dataframe tbody tr th {\n",
       "        vertical-align: top;\n",
       "    }\n",
       "\n",
       "    .dataframe thead th {\n",
       "        text-align: right;\n",
       "    }\n",
       "</style>\n",
       "<table border=\"1\" class=\"dataframe\">\n",
       "  <thead>\n",
       "    <tr style=\"text-align: right;\">\n",
       "      <th></th>\n",
       "      <th>Predictions</th>\n",
       "      <th>Actual Values</th>\n",
       "    </tr>\n",
       "  </thead>\n",
       "  <tbody>\n",
       "    <tr>\n",
       "      <th>123</th>\n",
       "      <td>1</td>\n",
       "      <td>1</td>\n",
       "    </tr>\n",
       "    <tr>\n",
       "      <th>256</th>\n",
       "      <td>1</td>\n",
       "      <td>1</td>\n",
       "    </tr>\n",
       "    <tr>\n",
       "      <th>588</th>\n",
       "      <td>0</td>\n",
       "      <td>0</td>\n",
       "    </tr>\n",
       "    <tr>\n",
       "      <th>335</th>\n",
       "      <td>0</td>\n",
       "      <td>0</td>\n",
       "    </tr>\n",
       "    <tr>\n",
       "      <th>543</th>\n",
       "      <td>0</td>\n",
       "      <td>0</td>\n",
       "    </tr>\n",
       "    <tr>\n",
       "      <th>230</th>\n",
       "      <td>1</td>\n",
       "      <td>1</td>\n",
       "    </tr>\n",
       "    <tr>\n",
       "      <th>388</th>\n",
       "      <td>0</td>\n",
       "      <td>0</td>\n",
       "    </tr>\n",
       "    <tr>\n",
       "      <th>486</th>\n",
       "      <td>1</td>\n",
       "      <td>0</td>\n",
       "    </tr>\n",
       "    <tr>\n",
       "      <th>212</th>\n",
       "      <td>0</td>\n",
       "      <td>0</td>\n",
       "    </tr>\n",
       "    <tr>\n",
       "      <th>577</th>\n",
       "      <td>1</td>\n",
       "      <td>1</td>\n",
       "    </tr>\n",
       "    <tr>\n",
       "      <th>145</th>\n",
       "      <td>1</td>\n",
       "      <td>0</td>\n",
       "    </tr>\n",
       "    <tr>\n",
       "      <th>521</th>\n",
       "      <td>0</td>\n",
       "      <td>0</td>\n",
       "    </tr>\n",
       "    <tr>\n",
       "      <th>3</th>\n",
       "      <td>1</td>\n",
       "      <td>1</td>\n",
       "    </tr>\n",
       "    <tr>\n",
       "      <th>520</th>\n",
       "      <td>1</td>\n",
       "      <td>1</td>\n",
       "    </tr>\n",
       "    <tr>\n",
       "      <th>470</th>\n",
       "      <td>0</td>\n",
       "      <td>0</td>\n",
       "    </tr>\n",
       "    <tr>\n",
       "      <th>330</th>\n",
       "      <td>1</td>\n",
       "      <td>0</td>\n",
       "    </tr>\n",
       "    <tr>\n",
       "      <th>235</th>\n",
       "      <td>1</td>\n",
       "      <td>1</td>\n",
       "    </tr>\n",
       "    <tr>\n",
       "      <th>270</th>\n",
       "      <td>1</td>\n",
       "      <td>1</td>\n",
       "    </tr>\n",
       "    <tr>\n",
       "      <th>555</th>\n",
       "      <td>0</td>\n",
       "      <td>0</td>\n",
       "    </tr>\n",
       "    <tr>\n",
       "      <th>348</th>\n",
       "      <td>1</td>\n",
       "      <td>1</td>\n",
       "    </tr>\n",
       "    <tr>\n",
       "      <th>64</th>\n",
       "      <td>1</td>\n",
       "      <td>0</td>\n",
       "    </tr>\n",
       "    <tr>\n",
       "      <th>79</th>\n",
       "      <td>1</td>\n",
       "      <td>1</td>\n",
       "    </tr>\n",
       "    <tr>\n",
       "      <th>47</th>\n",
       "      <td>0</td>\n",
       "      <td>0</td>\n",
       "    </tr>\n",
       "    <tr>\n",
       "      <th>569</th>\n",
       "      <td>1</td>\n",
       "      <td>0</td>\n",
       "    </tr>\n",
       "    <tr>\n",
       "      <th>460</th>\n",
       "      <td>1</td>\n",
       "      <td>1</td>\n",
       "    </tr>\n",
       "    <tr>\n",
       "      <th>192</th>\n",
       "      <td>1</td>\n",
       "      <td>1</td>\n",
       "    </tr>\n",
       "    <tr>\n",
       "      <th>240</th>\n",
       "      <td>1</td>\n",
       "      <td>1</td>\n",
       "    </tr>\n",
       "    <tr>\n",
       "      <th>31</th>\n",
       "      <td>1</td>\n",
       "      <td>0</td>\n",
       "    </tr>\n",
       "    <tr>\n",
       "      <th>368</th>\n",
       "      <td>1</td>\n",
       "      <td>1</td>\n",
       "    </tr>\n",
       "    <tr>\n",
       "      <th>503</th>\n",
       "      <td>1</td>\n",
       "      <td>1</td>\n",
       "    </tr>\n",
       "    <tr>\n",
       "      <th>375</th>\n",
       "      <td>0</td>\n",
       "      <td>0</td>\n",
       "    </tr>\n",
       "    <tr>\n",
       "      <th>254</th>\n",
       "      <td>1</td>\n",
       "      <td>0</td>\n",
       "    </tr>\n",
       "    <tr>\n",
       "      <th>324</th>\n",
       "      <td>1</td>\n",
       "      <td>1</td>\n",
       "    </tr>\n",
       "    <tr>\n",
       "      <th>48</th>\n",
       "      <td>1</td>\n",
       "      <td>1</td>\n",
       "    </tr>\n",
       "    <tr>\n",
       "      <th>549</th>\n",
       "      <td>1</td>\n",
       "      <td>1</td>\n",
       "    </tr>\n",
       "    <tr>\n",
       "      <th>357</th>\n",
       "      <td>1</td>\n",
       "      <td>1</td>\n",
       "    </tr>\n",
       "    <tr>\n",
       "      <th>251</th>\n",
       "      <td>1</td>\n",
       "      <td>0</td>\n",
       "    </tr>\n",
       "    <tr>\n",
       "      <th>448</th>\n",
       "      <td>0</td>\n",
       "      <td>0</td>\n",
       "    </tr>\n",
       "    <tr>\n",
       "      <th>73</th>\n",
       "      <td>1</td>\n",
       "      <td>1</td>\n",
       "    </tr>\n",
       "    <tr>\n",
       "      <th>134</th>\n",
       "      <td>1</td>\n",
       "      <td>1</td>\n",
       "    </tr>\n",
       "    <tr>\n",
       "      <th>325</th>\n",
       "      <td>1</td>\n",
       "      <td>1</td>\n",
       "    </tr>\n",
       "    <tr>\n",
       "      <th>246</th>\n",
       "      <td>0</td>\n",
       "      <td>0</td>\n",
       "    </tr>\n",
       "    <tr>\n",
       "      <th>148</th>\n",
       "      <td>1</td>\n",
       "      <td>1</td>\n",
       "    </tr>\n",
       "    <tr>\n",
       "      <th>258</th>\n",
       "      <td>1</td>\n",
       "      <td>1</td>\n",
       "    </tr>\n",
       "    <tr>\n",
       "      <th>11</th>\n",
       "      <td>1</td>\n",
       "      <td>1</td>\n",
       "    </tr>\n",
       "    <tr>\n",
       "      <th>253</th>\n",
       "      <td>1</td>\n",
       "      <td>1</td>\n",
       "    </tr>\n",
       "    <tr>\n",
       "      <th>38</th>\n",
       "      <td>1</td>\n",
       "      <td>1</td>\n",
       "    </tr>\n",
       "    <tr>\n",
       "      <th>269</th>\n",
       "      <td>1</td>\n",
       "      <td>1</td>\n",
       "    </tr>\n",
       "    <tr>\n",
       "      <th>412</th>\n",
       "      <td>1</td>\n",
       "      <td>1</td>\n",
       "    </tr>\n",
       "    <tr>\n",
       "      <th>328</th>\n",
       "      <td>1</td>\n",
       "      <td>1</td>\n",
       "    </tr>\n",
       "  </tbody>\n",
       "</table>\n",
       "</div>"
      ],
      "text/plain": [
       "     Predictions  Actual Values\n",
       "123            1              1\n",
       "256            1              1\n",
       "588            0              0\n",
       "335            0              0\n",
       "543            0              0\n",
       "230            1              1\n",
       "388            0              0\n",
       "486            1              0\n",
       "212            0              0\n",
       "577            1              1\n",
       "145            1              0\n",
       "521            0              0\n",
       "3              1              1\n",
       "520            1              1\n",
       "470            0              0\n",
       "330            1              0\n",
       "235            1              1\n",
       "270            1              1\n",
       "555            0              0\n",
       "348            1              1\n",
       "64             1              0\n",
       "79             1              1\n",
       "47             0              0\n",
       "569            1              0\n",
       "460            1              1\n",
       "192            1              1\n",
       "240            1              1\n",
       "31             1              0\n",
       "368            1              1\n",
       "503            1              1\n",
       "375            0              0\n",
       "254            1              0\n",
       "324            1              1\n",
       "48             1              1\n",
       "549            1              1\n",
       "357            1              1\n",
       "251            1              0\n",
       "448            0              0\n",
       "73             1              1\n",
       "134            1              1\n",
       "325            1              1\n",
       "246            0              0\n",
       "148            1              1\n",
       "258            1              1\n",
       "11             1              1\n",
       "253            1              1\n",
       "38             1              1\n",
       "269            1              1\n",
       "412            1              1\n",
       "328            1              1"
      ]
     },
     "execution_count": 147,
     "metadata": {},
     "output_type": "execute_result"
    }
   ],
   "source": [
    "Prediction_accuracy = pd.DataFrame({'Predictions': mod.predict(x_test), 'Actual Values': y_test})\n",
    "Prediction_accuracy.head(50)"
   ]
  },
  {
   "cell_type": "code",
   "execution_count": 148,
   "id": "ec3732ab",
   "metadata": {},
   "outputs": [
    {
     "data": {
      "text/plain": [
       "(183, 11)"
      ]
     },
     "execution_count": 148,
     "metadata": {},
     "output_type": "execute_result"
    }
   ],
   "source": [
    "x_test.shape"
   ]
  },
  {
   "cell_type": "code",
   "execution_count": 149,
   "id": "aa62dc49",
   "metadata": {},
   "outputs": [
    {
     "data": {
      "text/plain": [
       "(183,)"
      ]
     },
     "execution_count": 149,
     "metadata": {},
     "output_type": "execute_result"
    }
   ],
   "source": [
    "y_test.shape"
   ]
  },
  {
   "cell_type": "code",
   "execution_count": 150,
   "id": "cbf2699c",
   "metadata": {},
   "outputs": [
    {
     "data": {
      "text/plain": [
       "(367, 11)"
      ]
     },
     "execution_count": 150,
     "metadata": {},
     "output_type": "execute_result"
    }
   ],
   "source": [
    "scaled_test.shape"
   ]
  },
  {
   "cell_type": "code",
   "execution_count": 151,
   "id": "dced584a",
   "metadata": {},
   "outputs": [
    {
     "data": {
      "text/plain": [
       "(183,)"
      ]
     },
     "execution_count": 151,
     "metadata": {},
     "output_type": "execute_result"
    }
   ],
   "source": [
    "y_test.shape"
   ]
  },
  {
   "cell_type": "markdown",
   "id": "933e9985",
   "metadata": {},
   "source": [
    "### Predicting using the test Dataset"
   ]
  },
  {
   "cell_type": "code",
   "execution_count": 152,
   "id": "39351b19",
   "metadata": {},
   "outputs": [],
   "source": [
    "y_pred = mod.predict(scaled_test)"
   ]
  },
  {
   "cell_type": "code",
   "execution_count": 153,
   "id": "6ae6dbc4",
   "metadata": {},
   "outputs": [
    {
     "data": {
      "text/plain": [
       "array([1, 1, 1, 1, 1, 0, 1, 1, 1, 1, 1, 1, 1, 1, 1, 1, 1, 1, 0, 1, 1, 1,\n",
       "       1, 1, 0, 0, 1, 0, 1, 1, 1, 1, 1, 1, 1, 1, 1, 1, 1, 1, 1, 1, 1, 1,\n",
       "       1, 1, 1, 1, 1, 0, 1, 1, 1, 1, 1, 1, 1, 1, 0, 1, 1, 1, 1, 1, 1, 1,\n",
       "       1, 1, 1, 1, 1, 1, 1, 0, 1, 1, 1, 1, 1, 1, 1, 0, 0, 1, 1, 1, 1, 1,\n",
       "       1, 1, 1, 0, 1, 1, 1, 1, 0, 1, 1, 1, 1, 0, 1, 1, 1, 1, 1, 1, 1, 1,\n",
       "       0, 1, 1, 1, 1, 1, 1, 1, 1, 1, 1, 1, 1, 0, 0, 1, 1, 1, 1, 1, 1, 1,\n",
       "       1, 1, 1, 1, 1, 1, 1, 1, 1, 1, 1, 0, 1, 1, 1, 0, 1, 1, 1, 1, 1, 1,\n",
       "       1, 1, 0, 1, 1, 1, 1, 1, 1, 1, 1, 1, 1, 1, 1, 1, 1, 1, 1, 1, 1, 1,\n",
       "       1, 1, 1, 1, 1, 1, 1, 0, 1, 1, 1, 1, 1, 0, 1, 1, 1, 1, 0, 1, 1, 1,\n",
       "       1, 1, 0, 1, 1, 1, 1, 1, 1, 1, 1, 1, 1, 1, 1, 1, 1, 1, 1, 1, 0, 1,\n",
       "       1, 1, 0, 1, 0, 1, 1, 1, 1, 1, 0, 0, 1, 1, 1, 1, 1, 0, 1, 0, 1, 1,\n",
       "       1, 1, 1, 1, 0, 1, 1, 1, 0, 1, 1, 1, 1, 1, 1, 1, 1, 1, 1, 1, 1, 1,\n",
       "       1, 1, 0, 1, 1, 1, 1, 0, 1, 1, 1, 1, 1, 1, 1, 1, 1, 1, 1, 1, 0, 0,\n",
       "       1, 1, 1, 1, 1, 1, 1, 1, 1, 0, 1, 1, 1, 1, 1, 0, 0, 0, 1, 1, 0, 1,\n",
       "       1, 1, 1, 0, 1, 1, 1, 1, 1, 1, 1, 1, 1, 1, 1, 1, 1, 1, 1, 1, 0, 1,\n",
       "       1, 0, 0, 1, 1, 1, 1, 1, 1, 0, 1, 0, 1, 1, 1, 1, 1, 1, 1, 1, 1, 0,\n",
       "       1, 1, 1, 1, 1, 1, 1, 1, 1, 1, 0, 1, 1, 1, 1])"
      ]
     },
     "execution_count": 153,
     "metadata": {},
     "output_type": "execute_result"
    }
   ],
   "source": [
    "y_pred"
   ]
  },
  {
   "cell_type": "code",
   "execution_count": 154,
   "id": "2d7774aa",
   "metadata": {},
   "outputs": [
    {
     "data": {
      "text/plain": [
       "(367,)"
      ]
     },
     "execution_count": 154,
     "metadata": {},
     "output_type": "execute_result"
    }
   ],
   "source": [
    "y_pred.shape"
   ]
  },
  {
   "cell_type": "code",
   "execution_count": 155,
   "id": "31e243e1",
   "metadata": {},
   "outputs": [],
   "source": [
    "# test_features=y_pred\n",
    "# pred = grid.predict(test_features)\n",
    "# predicted_values=pd.DataFrame(pred)\n",
    "# # predicted_values.to_csv "
   ]
  },
  {
   "cell_type": "code",
   "execution_count": null,
   "id": "68cacd64",
   "metadata": {},
   "outputs": [],
   "source": []
  }
 ],
 "metadata": {
  "kernelspec": {
   "display_name": "Python 3 (ipykernel)",
   "language": "python",
   "name": "python3"
  },
  "language_info": {
   "codemirror_mode": {
    "name": "ipython",
    "version": 3
   },
   "file_extension": ".py",
   "mimetype": "text/x-python",
   "name": "python",
   "nbconvert_exporter": "python",
   "pygments_lexer": "ipython3",
   "version": "3.8.5"
  }
 },
 "nbformat": 4,
 "nbformat_minor": 5
}
